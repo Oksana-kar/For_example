{
  "cells": [
    {
      "cell_type": "code",
      "execution_count": 2,
      "id": "9d61face",
      "metadata": {},
      "outputs": [
        {
          "name": "stdout",
          "output_type": "stream",
          "text": [
            "Collecting pandas\n",
            "  Using cached pandas-2.2.3-cp312-cp312-win_amd64.whl.metadata (19 kB)\n",
            "Collecting numpy\n",
            "  Using cached numpy-2.1.2-cp312-cp312-win_amd64.whl.metadata (59 kB)\n",
            "Collecting matplotlib\n",
            "  Using cached matplotlib-3.9.2-cp312-cp312-win_amd64.whl.metadata (11 kB)\n",
            "Collecting scikit-learn\n",
            "  Using cached scikit_learn-1.5.2-cp312-cp312-win_amd64.whl.metadata (13 kB)\n",
            "Requirement already satisfied: python-dateutil>=2.8.2 in c:\\users\\user\\pycharmprojects\\new_flask\\.venv\\lib\\site-packages (from pandas) (2.9.0.post0)\n",
            "Collecting pytz>=2020.1 (from pandas)\n",
            "  Using cached pytz-2024.2-py2.py3-none-any.whl.metadata (22 kB)\n",
            "Collecting tzdata>=2022.7 (from pandas)\n",
            "  Using cached tzdata-2024.2-py2.py3-none-any.whl.metadata (1.4 kB)\n",
            "Collecting contourpy>=1.0.1 (from matplotlib)\n",
            "  Using cached contourpy-1.3.0-cp312-cp312-win_amd64.whl.metadata (5.4 kB)\n",
            "Collecting cycler>=0.10 (from matplotlib)\n",
            "  Using cached cycler-0.12.1-py3-none-any.whl.metadata (3.8 kB)\n",
            "Collecting fonttools>=4.22.0 (from matplotlib)\n",
            "  Using cached fonttools-4.54.1-cp312-cp312-win_amd64.whl.metadata (167 kB)\n",
            "Collecting kiwisolver>=1.3.1 (from matplotlib)\n",
            "  Using cached kiwisolver-1.4.7-cp312-cp312-win_amd64.whl.metadata (6.4 kB)\n",
            "Requirement already satisfied: packaging>=20.0 in c:\\users\\user\\pycharmprojects\\new_flask\\.venv\\lib\\site-packages (from matplotlib) (24.1)\n",
            "Collecting pillow>=8 (from matplotlib)\n",
            "  Using cached pillow-10.4.0-cp312-cp312-win_amd64.whl.metadata (9.3 kB)\n",
            "Collecting pyparsing>=2.3.1 (from matplotlib)\n",
            "  Using cached pyparsing-3.1.4-py3-none-any.whl.metadata (5.1 kB)\n",
            "Collecting scipy>=1.6.0 (from scikit-learn)\n",
            "  Using cached scipy-1.14.1-cp312-cp312-win_amd64.whl.metadata (60 kB)\n",
            "Collecting joblib>=1.2.0 (from scikit-learn)\n",
            "  Using cached joblib-1.4.2-py3-none-any.whl.metadata (5.4 kB)\n",
            "Collecting threadpoolctl>=3.1.0 (from scikit-learn)\n",
            "  Using cached threadpoolctl-3.5.0-py3-none-any.whl.metadata (13 kB)\n",
            "Requirement already satisfied: six>=1.5 in c:\\users\\user\\pycharmprojects\\new_flask\\.venv\\lib\\site-packages (from python-dateutil>=2.8.2->pandas) (1.16.0)\n",
            "Using cached pandas-2.2.3-cp312-cp312-win_amd64.whl (11.5 MB)\n",
            "Using cached numpy-2.1.2-cp312-cp312-win_amd64.whl (12.6 MB)\n",
            "Using cached matplotlib-3.9.2-cp312-cp312-win_amd64.whl (7.8 MB)\n",
            "Using cached scikit_learn-1.5.2-cp312-cp312-win_amd64.whl (11.0 MB)\n",
            "Using cached contourpy-1.3.0-cp312-cp312-win_amd64.whl (218 kB)\n",
            "Using cached cycler-0.12.1-py3-none-any.whl (8.3 kB)\n",
            "Using cached fonttools-4.54.1-cp312-cp312-win_amd64.whl (2.2 MB)\n",
            "Using cached joblib-1.4.2-py3-none-any.whl (301 kB)\n",
            "Using cached kiwisolver-1.4.7-cp312-cp312-win_amd64.whl (55 kB)\n",
            "Using cached pillow-10.4.0-cp312-cp312-win_amd64.whl (2.6 MB)\n",
            "Using cached pyparsing-3.1.4-py3-none-any.whl (104 kB)\n",
            "Using cached pytz-2024.2-py2.py3-none-any.whl (508 kB)\n",
            "Using cached scipy-1.14.1-cp312-cp312-win_amd64.whl (44.5 MB)\n",
            "Using cached threadpoolctl-3.5.0-py3-none-any.whl (18 kB)\n",
            "Using cached tzdata-2024.2-py2.py3-none-any.whl (346 kB)\n",
            "Installing collected packages: pytz, tzdata, threadpoolctl, pyparsing, pillow, numpy, kiwisolver, joblib, fonttools, cycler, scipy, pandas, contourpy, scikit-learn, matplotlib\n",
            "Successfully installed contourpy-1.3.0 cycler-0.12.1 fonttools-4.54.1 joblib-1.4.2 kiwisolver-1.4.7 matplotlib-3.9.2 numpy-2.1.2 pandas-2.2.3 pillow-10.4.0 pyparsing-3.1.4 pytz-2024.2 scikit-learn-1.5.2 scipy-1.14.1 threadpoolctl-3.5.0 tzdata-2024.2\n"
          ]
        }
      ],
      "source": [
        "!pip install pandas numpy matplotlib scikit-learn"
      ]
    },
    {
      "cell_type": "code",
      "execution_count": 3,
      "id": "c572ce39",
      "metadata": {
        "id": "c572ce39"
      },
      "outputs": [],
      "source": [
        "import pickle\n",
        "\n",
        "import pandas as pd\n",
        "import numpy as np\n",
        "\n",
        "import matplotlib.pyplot as plt\n",
        "\n",
        "from sklearn import preprocessing\n",
        "\n",
        "%matplotlib inline"
      ]
    },
    {
      "cell_type": "code",
      "execution_count": 4,
      "id": "37cc0469",
      "metadata": {
        "colab": {
          "base_uri": "https://localhost:8080/",
          "height": 35
        },
        "id": "37cc0469",
        "outputId": "d90eb86a-f3c6-4098-a929-19462e5c5316"
      },
      "outputs": [
        {
          "data": {
            "text/plain": [
              "'1.5.2'"
            ]
          },
          "execution_count": 4,
          "metadata": {},
          "output_type": "execute_result"
        }
      ],
      "source": [
        "import sklearn\n",
        "sklearn.__version__\n"
      ]
    },
    {
      "cell_type": "code",
      "execution_count": 6,
      "id": "cc5bd45c",
      "metadata": {
        "colab": {
          "base_uri": "https://localhost:8080/",
          "height": 193
        },
        "id": "cc5bd45c",
        "outputId": "5253701c-4530-4235-b0fa-53c4c174de79"
      },
      "outputs": [
        {
          "data": {
            "text/html": [
              "<div>\n",
              "<style scoped>\n",
              "    .dataframe tbody tr th:only-of-type {\n",
              "        vertical-align: middle;\n",
              "    }\n",
              "\n",
              "    .dataframe tbody tr th {\n",
              "        vertical-align: top;\n",
              "    }\n",
              "\n",
              "    .dataframe thead th {\n",
              "        text-align: right;\n",
              "    }\n",
              "</style>\n",
              "<table border=\"1\" class=\"dataframe\">\n",
              "  <thead>\n",
              "    <tr style=\"text-align: right;\">\n",
              "      <th></th>\n",
              "      <th>id</th>\n",
              "      <th>Количество.комнат</th>\n",
              "      <th>Студия</th>\n",
              "      <th>Общая.площадь</th>\n",
              "      <th>Этаж</th>\n",
              "      <th>Этажей.в.доме</th>\n",
              "      <th>Парковка</th>\n",
              "      <th>Цена</th>\n",
              "      <th>Без.ремонта</th>\n",
              "      <th>Дизайнерский</th>\n",
              "      <th>...</th>\n",
              "      <th>Остановка.1000</th>\n",
              "      <th>Одежда..1000</th>\n",
              "      <th>Супер3кет.1000</th>\n",
              "      <th>Кинотеатр.1000</th>\n",
              "      <th>Кафе.1000</th>\n",
              "      <th>АЗС.1000</th>\n",
              "      <th>Детский.сад.1000</th>\n",
              "      <th>Бар.1000</th>\n",
              "      <th>Банк.1000</th>\n",
              "      <th>Аптека.1000</th>\n",
              "    </tr>\n",
              "  </thead>\n",
              "  <tbody>\n",
              "    <tr>\n",
              "      <th>0</th>\n",
              "      <td>1</td>\n",
              "      <td>1</td>\n",
              "      <td>0</td>\n",
              "      <td>35.1</td>\n",
              "      <td>7</td>\n",
              "      <td>9</td>\n",
              "      <td>1</td>\n",
              "      <td>1946322.0</td>\n",
              "      <td>0</td>\n",
              "      <td>0</td>\n",
              "      <td>...</td>\n",
              "      <td>12</td>\n",
              "      <td>13</td>\n",
              "      <td>10</td>\n",
              "      <td>0</td>\n",
              "      <td>5</td>\n",
              "      <td>1</td>\n",
              "      <td>31</td>\n",
              "      <td>13</td>\n",
              "      <td>10</td>\n",
              "      <td>26</td>\n",
              "    </tr>\n",
              "    <tr>\n",
              "      <th>1</th>\n",
              "      <td>2</td>\n",
              "      <td>5</td>\n",
              "      <td>0</td>\n",
              "      <td>95.2</td>\n",
              "      <td>1</td>\n",
              "      <td>10</td>\n",
              "      <td>1</td>\n",
              "      <td>5000000.0</td>\n",
              "      <td>0</td>\n",
              "      <td>0</td>\n",
              "      <td>...</td>\n",
              "      <td>12</td>\n",
              "      <td>13</td>\n",
              "      <td>10</td>\n",
              "      <td>0</td>\n",
              "      <td>5</td>\n",
              "      <td>1</td>\n",
              "      <td>31</td>\n",
              "      <td>13</td>\n",
              "      <td>10</td>\n",
              "      <td>26</td>\n",
              "    </tr>\n",
              "    <tr>\n",
              "      <th>2</th>\n",
              "      <td>3</td>\n",
              "      <td>1</td>\n",
              "      <td>0</td>\n",
              "      <td>34.0</td>\n",
              "      <td>1</td>\n",
              "      <td>5</td>\n",
              "      <td>0</td>\n",
              "      <td>1870000.0</td>\n",
              "      <td>0</td>\n",
              "      <td>0</td>\n",
              "      <td>...</td>\n",
              "      <td>12</td>\n",
              "      <td>13</td>\n",
              "      <td>9</td>\n",
              "      <td>0</td>\n",
              "      <td>4</td>\n",
              "      <td>1</td>\n",
              "      <td>26</td>\n",
              "      <td>13</td>\n",
              "      <td>11</td>\n",
              "      <td>28</td>\n",
              "    </tr>\n",
              "  </tbody>\n",
              "</table>\n",
              "<p>3 rows × 48 columns</p>\n",
              "</div>"
            ],
            "text/plain": [
              "   id  Количество.комнат  Студия  Общая.площадь  Этаж  Этажей.в.доме  \\\n",
              "0   1                  1       0           35.1     7              9   \n",
              "1   2                  5       0           95.2     1             10   \n",
              "2   3                  1       0           34.0     1              5   \n",
              "\n",
              "   Парковка       Цена  Без.ремонта  Дизайнерский  ...  Остановка.1000  \\\n",
              "0         1  1946322.0            0             0  ...              12   \n",
              "1         1  5000000.0            0             0  ...              12   \n",
              "2         0  1870000.0            0             0  ...              12   \n",
              "\n",
              "   Одежда..1000  Супер3кет.1000  Кинотеатр.1000  Кафе.1000  АЗС.1000  \\\n",
              "0            13              10               0          5         1   \n",
              "1            13              10               0          5         1   \n",
              "2            13               9               0          4         1   \n",
              "\n",
              "   Детский.сад.1000  Бар.1000  Банк.1000  Аптека.1000  \n",
              "0                31        13         10           26  \n",
              "1                31        13         10           26  \n",
              "2                26        13         11           28  \n",
              "\n",
              "[3 rows x 48 columns]"
            ]
          },
          "execution_count": 6,
          "metadata": {},
          "output_type": "execute_result"
        }
      ],
      "source": [
        "df = pd.read_csv(\"data/dataset.csv\")\n",
        "df.head(3)"
      ]
    },
    {
      "cell_type": "code",
      "execution_count": 7,
      "id": "68b57136",
      "metadata": {
        "colab": {
          "base_uri": "https://localhost:8080/"
        },
        "id": "68b57136",
        "outputId": "766e32e7-5eba-4024-effc-868d3a4c2113"
      },
      "outputs": [
        {
          "data": {
            "text/plain": [
              "Index(['id', 'Количество.комнат', 'Студия', 'Общая.площадь', 'Этаж',\n",
              "       'Этажей.в.доме', 'Парковка', 'Цена', 'Без.ремонта', 'Дизайнерский',\n",
              "       'Евроремонт', 'Косметический', 'Балкон', 'Лоджия',\n",
              "       'Совмещенный.санузел', 'Раздельный.санузел', 'Лифт', 'Грузовой.лифт',\n",
              "       'Мусоропровод', 'Год.постройки', 'Аварийный',\n",
              "       'Железобетонные.перекрытия', 'Смешанные.перекрытия',\n",
              "       'Деревянные.перекрытия', 'Иные.перекрытия', 'Панельные.стены',\n",
              "       'Блочные.стены', 'Деревянные.стены', 'Кирпичные.стены',\n",
              "       'Монолитные.стены', 'Смешанные.стены', 'Школа.1000', 'ВУЗ.1000',\n",
              "       'ТЦ.1000', 'Стоматология.1000', 'Почта.1000', 'Поликлиника.1000',\n",
              "       'Парк.1000', 'Остановка.1000', 'Одежда..1000', 'Супер3кет.1000',\n",
              "       'Кинотеатр.1000', 'Кафе.1000', 'АЗС.1000', 'Детский.сад.1000',\n",
              "       'Бар.1000', 'Банк.1000', 'Аптека.1000'],\n",
              "      dtype='object')"
            ]
          },
          "execution_count": 7,
          "metadata": {},
          "output_type": "execute_result"
        }
      ],
      "source": [
        "df.columns"
      ]
    },
    {
      "cell_type": "code",
      "execution_count": 8,
      "id": "99f9b4e4",
      "metadata": {
        "colab": {
          "base_uri": "https://localhost:8080/",
          "height": 350
        },
        "id": "99f9b4e4",
        "outputId": "0750b33b-a37a-405d-8b0f-04637a125f37"
      },
      "outputs": [
        {
          "data": {
            "text/html": [
              "<div>\n",
              "<style scoped>\n",
              "    .dataframe tbody tr th:only-of-type {\n",
              "        vertical-align: middle;\n",
              "    }\n",
              "\n",
              "    .dataframe tbody tr th {\n",
              "        vertical-align: top;\n",
              "    }\n",
              "\n",
              "    .dataframe thead th {\n",
              "        text-align: right;\n",
              "    }\n",
              "</style>\n",
              "<table border=\"1\" class=\"dataframe\">\n",
              "  <thead>\n",
              "    <tr style=\"text-align: right;\">\n",
              "      <th></th>\n",
              "      <th>id</th>\n",
              "      <th>Количество.комнат</th>\n",
              "      <th>Студия</th>\n",
              "      <th>Общая.площадь</th>\n",
              "      <th>Этаж</th>\n",
              "      <th>Этажей.в.доме</th>\n",
              "      <th>Парковка</th>\n",
              "      <th>Цена</th>\n",
              "      <th>Без.ремонта</th>\n",
              "      <th>Дизайнерский</th>\n",
              "      <th>...</th>\n",
              "      <th>Остановка.1000</th>\n",
              "      <th>Одежда..1000</th>\n",
              "      <th>Супер3кет.1000</th>\n",
              "      <th>Кинотеатр.1000</th>\n",
              "      <th>Кафе.1000</th>\n",
              "      <th>АЗС.1000</th>\n",
              "      <th>Детский.сад.1000</th>\n",
              "      <th>Бар.1000</th>\n",
              "      <th>Банк.1000</th>\n",
              "      <th>Аптека.1000</th>\n",
              "    </tr>\n",
              "  </thead>\n",
              "  <tbody>\n",
              "    <tr>\n",
              "      <th>count</th>\n",
              "      <td>1617.000000</td>\n",
              "      <td>1617.000000</td>\n",
              "      <td>1617.000000</td>\n",
              "      <td>1617.000000</td>\n",
              "      <td>1617.000000</td>\n",
              "      <td>1617.000000</td>\n",
              "      <td>1617.000000</td>\n",
              "      <td>1.617000e+03</td>\n",
              "      <td>1617.000000</td>\n",
              "      <td>1617.000000</td>\n",
              "      <td>...</td>\n",
              "      <td>1617.000000</td>\n",
              "      <td>1617.000000</td>\n",
              "      <td>1617.000000</td>\n",
              "      <td>1617.000000</td>\n",
              "      <td>1617.000000</td>\n",
              "      <td>1617.000000</td>\n",
              "      <td>1617.000000</td>\n",
              "      <td>1617.000000</td>\n",
              "      <td>1617.000000</td>\n",
              "      <td>1617.000000</td>\n",
              "    </tr>\n",
              "    <tr>\n",
              "      <th>mean</th>\n",
              "      <td>809.000000</td>\n",
              "      <td>2.064935</td>\n",
              "      <td>0.048856</td>\n",
              "      <td>51.985646</td>\n",
              "      <td>4.901051</td>\n",
              "      <td>8.889920</td>\n",
              "      <td>0.142239</td>\n",
              "      <td>2.777592e+06</td>\n",
              "      <td>0.101422</td>\n",
              "      <td>0.035869</td>\n",
              "      <td>...</td>\n",
              "      <td>9.650588</td>\n",
              "      <td>11.231293</td>\n",
              "      <td>4.809524</td>\n",
              "      <td>0.162028</td>\n",
              "      <td>8.354978</td>\n",
              "      <td>2.448361</td>\n",
              "      <td>13.419913</td>\n",
              "      <td>4.349412</td>\n",
              "      <td>7.223871</td>\n",
              "      <td>13.848485</td>\n",
              "    </tr>\n",
              "    <tr>\n",
              "      <th>std</th>\n",
              "      <td>466.932008</td>\n",
              "      <td>1.026922</td>\n",
              "      <td>0.215633</td>\n",
              "      <td>23.891530</td>\n",
              "      <td>3.762452</td>\n",
              "      <td>4.821466</td>\n",
              "      <td>0.349403</td>\n",
              "      <td>1.345226e+06</td>\n",
              "      <td>0.301981</td>\n",
              "      <td>0.186021</td>\n",
              "      <td>...</td>\n",
              "      <td>5.470871</td>\n",
              "      <td>16.071189</td>\n",
              "      <td>3.214614</td>\n",
              "      <td>0.402305</td>\n",
              "      <td>9.616928</td>\n",
              "      <td>1.666490</td>\n",
              "      <td>7.506263</td>\n",
              "      <td>6.355475</td>\n",
              "      <td>7.284399</td>\n",
              "      <td>8.144498</td>\n",
              "    </tr>\n",
              "    <tr>\n",
              "      <th>min</th>\n",
              "      <td>1.000000</td>\n",
              "      <td>1.000000</td>\n",
              "      <td>0.000000</td>\n",
              "      <td>10.000000</td>\n",
              "      <td>1.000000</td>\n",
              "      <td>2.000000</td>\n",
              "      <td>0.000000</td>\n",
              "      <td>4.990000e+05</td>\n",
              "      <td>0.000000</td>\n",
              "      <td>0.000000</td>\n",
              "      <td>...</td>\n",
              "      <td>0.000000</td>\n",
              "      <td>0.000000</td>\n",
              "      <td>0.000000</td>\n",
              "      <td>0.000000</td>\n",
              "      <td>0.000000</td>\n",
              "      <td>0.000000</td>\n",
              "      <td>0.000000</td>\n",
              "      <td>0.000000</td>\n",
              "      <td>0.000000</td>\n",
              "      <td>0.000000</td>\n",
              "    </tr>\n",
              "    <tr>\n",
              "      <th>25%</th>\n",
              "      <td>405.000000</td>\n",
              "      <td>1.000000</td>\n",
              "      <td>0.000000</td>\n",
              "      <td>37.500000</td>\n",
              "      <td>2.000000</td>\n",
              "      <td>5.000000</td>\n",
              "      <td>0.000000</td>\n",
              "      <td>1.950000e+06</td>\n",
              "      <td>0.000000</td>\n",
              "      <td>0.000000</td>\n",
              "      <td>...</td>\n",
              "      <td>6.000000</td>\n",
              "      <td>2.000000</td>\n",
              "      <td>2.000000</td>\n",
              "      <td>0.000000</td>\n",
              "      <td>3.000000</td>\n",
              "      <td>1.000000</td>\n",
              "      <td>8.000000</td>\n",
              "      <td>1.000000</td>\n",
              "      <td>2.000000</td>\n",
              "      <td>8.000000</td>\n",
              "    </tr>\n",
              "    <tr>\n",
              "      <th>50%</th>\n",
              "      <td>809.000000</td>\n",
              "      <td>2.000000</td>\n",
              "      <td>0.000000</td>\n",
              "      <td>48.000000</td>\n",
              "      <td>4.000000</td>\n",
              "      <td>9.000000</td>\n",
              "      <td>0.000000</td>\n",
              "      <td>2.575000e+06</td>\n",
              "      <td>0.000000</td>\n",
              "      <td>0.000000</td>\n",
              "      <td>...</td>\n",
              "      <td>9.000000</td>\n",
              "      <td>5.000000</td>\n",
              "      <td>5.000000</td>\n",
              "      <td>0.000000</td>\n",
              "      <td>6.000000</td>\n",
              "      <td>2.000000</td>\n",
              "      <td>13.000000</td>\n",
              "      <td>3.000000</td>\n",
              "      <td>5.000000</td>\n",
              "      <td>13.000000</td>\n",
              "    </tr>\n",
              "    <tr>\n",
              "      <th>75%</th>\n",
              "      <td>1213.000000</td>\n",
              "      <td>3.000000</td>\n",
              "      <td>0.000000</td>\n",
              "      <td>63.700000</td>\n",
              "      <td>6.000000</td>\n",
              "      <td>10.000000</td>\n",
              "      <td>0.000000</td>\n",
              "      <td>3.350000e+06</td>\n",
              "      <td>0.000000</td>\n",
              "      <td>0.000000</td>\n",
              "      <td>...</td>\n",
              "      <td>12.000000</td>\n",
              "      <td>13.000000</td>\n",
              "      <td>7.000000</td>\n",
              "      <td>0.000000</td>\n",
              "      <td>10.000000</td>\n",
              "      <td>3.000000</td>\n",
              "      <td>18.000000</td>\n",
              "      <td>5.000000</td>\n",
              "      <td>11.000000</td>\n",
              "      <td>19.000000</td>\n",
              "    </tr>\n",
              "    <tr>\n",
              "      <th>max</th>\n",
              "      <td>1617.000000</td>\n",
              "      <td>6.000000</td>\n",
              "      <td>1.000000</td>\n",
              "      <td>255.000000</td>\n",
              "      <td>25.000000</td>\n",
              "      <td>27.000000</td>\n",
              "      <td>1.000000</td>\n",
              "      <td>1.485000e+07</td>\n",
              "      <td>1.000000</td>\n",
              "      <td>1.000000</td>\n",
              "      <td>...</td>\n",
              "      <td>31.000000</td>\n",
              "      <td>86.000000</td>\n",
              "      <td>14.000000</td>\n",
              "      <td>2.000000</td>\n",
              "      <td>72.000000</td>\n",
              "      <td>9.000000</td>\n",
              "      <td>42.000000</td>\n",
              "      <td>55.000000</td>\n",
              "      <td>44.000000</td>\n",
              "      <td>40.000000</td>\n",
              "    </tr>\n",
              "  </tbody>\n",
              "</table>\n",
              "<p>8 rows × 48 columns</p>\n",
              "</div>"
            ],
            "text/plain": [
              "                id  Количество.комнат       Студия  Общая.площадь  \\\n",
              "count  1617.000000        1617.000000  1617.000000    1617.000000   \n",
              "mean    809.000000           2.064935     0.048856      51.985646   \n",
              "std     466.932008           1.026922     0.215633      23.891530   \n",
              "min       1.000000           1.000000     0.000000      10.000000   \n",
              "25%     405.000000           1.000000     0.000000      37.500000   \n",
              "50%     809.000000           2.000000     0.000000      48.000000   \n",
              "75%    1213.000000           3.000000     0.000000      63.700000   \n",
              "max    1617.000000           6.000000     1.000000     255.000000   \n",
              "\n",
              "              Этаж  Этажей.в.доме     Парковка          Цена  Без.ремонта  \\\n",
              "count  1617.000000    1617.000000  1617.000000  1.617000e+03  1617.000000   \n",
              "mean      4.901051       8.889920     0.142239  2.777592e+06     0.101422   \n",
              "std       3.762452       4.821466     0.349403  1.345226e+06     0.301981   \n",
              "min       1.000000       2.000000     0.000000  4.990000e+05     0.000000   \n",
              "25%       2.000000       5.000000     0.000000  1.950000e+06     0.000000   \n",
              "50%       4.000000       9.000000     0.000000  2.575000e+06     0.000000   \n",
              "75%       6.000000      10.000000     0.000000  3.350000e+06     0.000000   \n",
              "max      25.000000      27.000000     1.000000  1.485000e+07     1.000000   \n",
              "\n",
              "       Дизайнерский  ...  Остановка.1000  Одежда..1000  Супер3кет.1000  \\\n",
              "count   1617.000000  ...     1617.000000   1617.000000     1617.000000   \n",
              "mean       0.035869  ...        9.650588     11.231293        4.809524   \n",
              "std        0.186021  ...        5.470871     16.071189        3.214614   \n",
              "min        0.000000  ...        0.000000      0.000000        0.000000   \n",
              "25%        0.000000  ...        6.000000      2.000000        2.000000   \n",
              "50%        0.000000  ...        9.000000      5.000000        5.000000   \n",
              "75%        0.000000  ...       12.000000     13.000000        7.000000   \n",
              "max        1.000000  ...       31.000000     86.000000       14.000000   \n",
              "\n",
              "       Кинотеатр.1000    Кафе.1000     АЗС.1000  Детский.сад.1000  \\\n",
              "count     1617.000000  1617.000000  1617.000000       1617.000000   \n",
              "mean         0.162028     8.354978     2.448361         13.419913   \n",
              "std          0.402305     9.616928     1.666490          7.506263   \n",
              "min          0.000000     0.000000     0.000000          0.000000   \n",
              "25%          0.000000     3.000000     1.000000          8.000000   \n",
              "50%          0.000000     6.000000     2.000000         13.000000   \n",
              "75%          0.000000    10.000000     3.000000         18.000000   \n",
              "max          2.000000    72.000000     9.000000         42.000000   \n",
              "\n",
              "          Бар.1000    Банк.1000  Аптека.1000  \n",
              "count  1617.000000  1617.000000  1617.000000  \n",
              "mean      4.349412     7.223871    13.848485  \n",
              "std       6.355475     7.284399     8.144498  \n",
              "min       0.000000     0.000000     0.000000  \n",
              "25%       1.000000     2.000000     8.000000  \n",
              "50%       3.000000     5.000000    13.000000  \n",
              "75%       5.000000    11.000000    19.000000  \n",
              "max      55.000000    44.000000    40.000000  \n",
              "\n",
              "[8 rows x 48 columns]"
            ]
          },
          "execution_count": 8,
          "metadata": {},
          "output_type": "execute_result"
        }
      ],
      "source": [
        "df.describe()"
      ]
    },
    {
      "cell_type": "code",
      "execution_count": 9,
      "id": "b8adb56d",
      "metadata": {
        "id": "b8adb56d"
      },
      "outputs": [],
      "source": [
        "df = pd.read_csv(\"data/dataset.csv\")\n",
        "df = df.drop(\"id\", axis=1)"
      ]
    },
    {
      "cell_type": "code",
      "execution_count": 10,
      "id": "94d35a97",
      "metadata": {
        "colab": {
          "base_uri": "https://localhost:8080/"
        },
        "id": "94d35a97",
        "outputId": "4a2119ad-ed11-4573-9016-d8a3efe9ce15"
      },
      "outputs": [
        {
          "name": "stdout",
          "output_type": "stream",
          "text": [
            "<class 'pandas.core.frame.DataFrame'>\n",
            "RangeIndex: 1617 entries, 0 to 1616\n",
            "Data columns (total 47 columns):\n",
            " #   Column                     Non-Null Count  Dtype  \n",
            "---  ------                     --------------  -----  \n",
            " 0   Количество.комнат          1617 non-null   int64  \n",
            " 1   Студия                     1617 non-null   int64  \n",
            " 2   Общая.площадь              1617 non-null   float64\n",
            " 3   Этаж                       1617 non-null   int64  \n",
            " 4   Этажей.в.доме              1617 non-null   int64  \n",
            " 5   Парковка                   1617 non-null   int64  \n",
            " 6   Цена                       1617 non-null   float64\n",
            " 7   Без.ремонта                1617 non-null   int64  \n",
            " 8   Дизайнерский               1617 non-null   int64  \n",
            " 9   Евроремонт                 1617 non-null   int64  \n",
            " 10  Косметический              1617 non-null   int64  \n",
            " 11  Балкон                     1617 non-null   int64  \n",
            " 12  Лоджия                     1617 non-null   int64  \n",
            " 13  Совмещенный.санузел        1617 non-null   int64  \n",
            " 14  Раздельный.санузел         1617 non-null   int64  \n",
            " 15  Лифт                       1617 non-null   int64  \n",
            " 16  Грузовой.лифт              1617 non-null   int64  \n",
            " 17  Мусоропровод               1617 non-null   int64  \n",
            " 18  Год.постройки              1617 non-null   int64  \n",
            " 19  Аварийный                  1617 non-null   int64  \n",
            " 20  Железобетонные.перекрытия  1617 non-null   int64  \n",
            " 21  Смешанные.перекрытия       1617 non-null   int64  \n",
            " 22  Деревянные.перекрытия      1617 non-null   int64  \n",
            " 23  Иные.перекрытия            1617 non-null   int64  \n",
            " 24  Панельные.стены            1617 non-null   int64  \n",
            " 25  Блочные.стены              1617 non-null   int64  \n",
            " 26  Деревянные.стены           1617 non-null   int64  \n",
            " 27  Кирпичные.стены            1617 non-null   int64  \n",
            " 28  Монолитные.стены           1617 non-null   int64  \n",
            " 29  Смешанные.стены            1617 non-null   int64  \n",
            " 30  Школа.1000                 1617 non-null   int64  \n",
            " 31  ВУЗ.1000                   1617 non-null   int64  \n",
            " 32  ТЦ.1000                    1617 non-null   int64  \n",
            " 33  Стоматология.1000          1617 non-null   int64  \n",
            " 34  Почта.1000                 1617 non-null   int64  \n",
            " 35  Поликлиника.1000           1617 non-null   int64  \n",
            " 36  Парк.1000                  1617 non-null   int64  \n",
            " 37  Остановка.1000             1617 non-null   int64  \n",
            " 38  Одежда..1000               1617 non-null   int64  \n",
            " 39  Супер3кет.1000             1617 non-null   int64  \n",
            " 40  Кинотеатр.1000             1617 non-null   int64  \n",
            " 41  Кафе.1000                  1617 non-null   int64  \n",
            " 42  АЗС.1000                   1617 non-null   int64  \n",
            " 43  Детский.сад.1000           1617 non-null   int64  \n",
            " 44  Бар.1000                   1617 non-null   int64  \n",
            " 45  Банк.1000                  1617 non-null   int64  \n",
            " 46  Аптека.1000                1617 non-null   int64  \n",
            "dtypes: float64(2), int64(45)\n",
            "memory usage: 593.9 KB\n"
          ]
        }
      ],
      "source": [
        "df.info()"
      ]
    },
    {
      "cell_type": "code",
      "execution_count": 11,
      "id": "be9c8336",
      "metadata": {
        "id": "be9c8336"
      },
      "outputs": [
        {
          "data": {
            "text/html": [
              "<div>\n",
              "<style scoped>\n",
              "    .dataframe tbody tr th:only-of-type {\n",
              "        vertical-align: middle;\n",
              "    }\n",
              "\n",
              "    .dataframe tbody tr th {\n",
              "        vertical-align: top;\n",
              "    }\n",
              "\n",
              "    .dataframe thead th {\n",
              "        text-align: right;\n",
              "    }\n",
              "</style>\n",
              "<table border=\"1\" class=\"dataframe\">\n",
              "  <thead>\n",
              "    <tr style=\"text-align: right;\">\n",
              "      <th></th>\n",
              "      <th>count</th>\n",
              "      <th>mean</th>\n",
              "      <th>std</th>\n",
              "      <th>min</th>\n",
              "      <th>25%</th>\n",
              "      <th>50%</th>\n",
              "      <th>75%</th>\n",
              "      <th>max</th>\n",
              "    </tr>\n",
              "  </thead>\n",
              "  <tbody>\n",
              "    <tr>\n",
              "      <th>Количество.комнат</th>\n",
              "      <td>1617.0</td>\n",
              "      <td>2.064935e+00</td>\n",
              "      <td>1.026922e+00</td>\n",
              "      <td>1.0</td>\n",
              "      <td>1.0</td>\n",
              "      <td>2.0</td>\n",
              "      <td>3.0</td>\n",
              "      <td>6.0</td>\n",
              "    </tr>\n",
              "    <tr>\n",
              "      <th>Студия</th>\n",
              "      <td>1617.0</td>\n",
              "      <td>4.885591e-02</td>\n",
              "      <td>2.156334e-01</td>\n",
              "      <td>0.0</td>\n",
              "      <td>0.0</td>\n",
              "      <td>0.0</td>\n",
              "      <td>0.0</td>\n",
              "      <td>1.0</td>\n",
              "    </tr>\n",
              "    <tr>\n",
              "      <th>Общая.площадь</th>\n",
              "      <td>1617.0</td>\n",
              "      <td>5.198565e+01</td>\n",
              "      <td>2.389153e+01</td>\n",
              "      <td>10.0</td>\n",
              "      <td>37.5</td>\n",
              "      <td>48.0</td>\n",
              "      <td>63.7</td>\n",
              "      <td>255.0</td>\n",
              "    </tr>\n",
              "    <tr>\n",
              "      <th>Этаж</th>\n",
              "      <td>1617.0</td>\n",
              "      <td>4.901051e+00</td>\n",
              "      <td>3.762452e+00</td>\n",
              "      <td>1.0</td>\n",
              "      <td>2.0</td>\n",
              "      <td>4.0</td>\n",
              "      <td>6.0</td>\n",
              "      <td>25.0</td>\n",
              "    </tr>\n",
              "    <tr>\n",
              "      <th>Этажей.в.доме</th>\n",
              "      <td>1617.0</td>\n",
              "      <td>8.889920e+00</td>\n",
              "      <td>4.821466e+00</td>\n",
              "      <td>2.0</td>\n",
              "      <td>5.0</td>\n",
              "      <td>9.0</td>\n",
              "      <td>10.0</td>\n",
              "      <td>27.0</td>\n",
              "    </tr>\n",
              "    <tr>\n",
              "      <th>Парковка</th>\n",
              "      <td>1617.0</td>\n",
              "      <td>1.422387e-01</td>\n",
              "      <td>3.494029e-01</td>\n",
              "      <td>0.0</td>\n",
              "      <td>0.0</td>\n",
              "      <td>0.0</td>\n",
              "      <td>0.0</td>\n",
              "      <td>1.0</td>\n",
              "    </tr>\n",
              "    <tr>\n",
              "      <th>Цена</th>\n",
              "      <td>1617.0</td>\n",
              "      <td>2.777592e+06</td>\n",
              "      <td>1.345226e+06</td>\n",
              "      <td>499000.0</td>\n",
              "      <td>1950000.0</td>\n",
              "      <td>2575000.0</td>\n",
              "      <td>3350000.0</td>\n",
              "      <td>14850000.0</td>\n",
              "    </tr>\n",
              "    <tr>\n",
              "      <th>Без.ремонта</th>\n",
              "      <td>1617.0</td>\n",
              "      <td>1.014224e-01</td>\n",
              "      <td>3.019806e-01</td>\n",
              "      <td>0.0</td>\n",
              "      <td>0.0</td>\n",
              "      <td>0.0</td>\n",
              "      <td>0.0</td>\n",
              "      <td>1.0</td>\n",
              "    </tr>\n",
              "    <tr>\n",
              "      <th>Дизайнерский</th>\n",
              "      <td>1617.0</td>\n",
              "      <td>3.586889e-02</td>\n",
              "      <td>1.860207e-01</td>\n",
              "      <td>0.0</td>\n",
              "      <td>0.0</td>\n",
              "      <td>0.0</td>\n",
              "      <td>0.0</td>\n",
              "      <td>1.0</td>\n",
              "    </tr>\n",
              "    <tr>\n",
              "      <th>Евроремонт</th>\n",
              "      <td>1617.0</td>\n",
              "      <td>9.523810e-02</td>\n",
              "      <td>2.936343e-01</td>\n",
              "      <td>0.0</td>\n",
              "      <td>0.0</td>\n",
              "      <td>0.0</td>\n",
              "      <td>0.0</td>\n",
              "      <td>1.0</td>\n",
              "    </tr>\n",
              "    <tr>\n",
              "      <th>Косметический</th>\n",
              "      <td>1617.0</td>\n",
              "      <td>7.674706e-01</td>\n",
              "      <td>4.225753e-01</td>\n",
              "      <td>0.0</td>\n",
              "      <td>1.0</td>\n",
              "      <td>1.0</td>\n",
              "      <td>1.0</td>\n",
              "      <td>1.0</td>\n",
              "    </tr>\n",
              "    <tr>\n",
              "      <th>Балкон</th>\n",
              "      <td>1617.0</td>\n",
              "      <td>6.134818e-01</td>\n",
              "      <td>6.270640e-01</td>\n",
              "      <td>0.0</td>\n",
              "      <td>0.0</td>\n",
              "      <td>1.0</td>\n",
              "      <td>1.0</td>\n",
              "      <td>4.0</td>\n",
              "    </tr>\n",
              "    <tr>\n",
              "      <th>Лоджия</th>\n",
              "      <td>1617.0</td>\n",
              "      <td>2.164502e-01</td>\n",
              "      <td>4.837984e-01</td>\n",
              "      <td>0.0</td>\n",
              "      <td>0.0</td>\n",
              "      <td>0.0</td>\n",
              "      <td>0.0</td>\n",
              "      <td>4.0</td>\n",
              "    </tr>\n",
              "    <tr>\n",
              "      <th>Совмещенный.санузел</th>\n",
              "      <td>1617.0</td>\n",
              "      <td>4.069264e-01</td>\n",
              "      <td>4.989112e-01</td>\n",
              "      <td>0.0</td>\n",
              "      <td>0.0</td>\n",
              "      <td>0.0</td>\n",
              "      <td>1.0</td>\n",
              "      <td>2.0</td>\n",
              "    </tr>\n",
              "    <tr>\n",
              "      <th>Раздельный.санузел</th>\n",
              "      <td>1617.0</td>\n",
              "      <td>4.786642e-01</td>\n",
              "      <td>5.179417e-01</td>\n",
              "      <td>0.0</td>\n",
              "      <td>0.0</td>\n",
              "      <td>0.0</td>\n",
              "      <td>1.0</td>\n",
              "      <td>2.0</td>\n",
              "    </tr>\n",
              "    <tr>\n",
              "      <th>Лифт</th>\n",
              "      <td>1617.0</td>\n",
              "      <td>5.435993e-01</td>\n",
              "      <td>5.733221e-01</td>\n",
              "      <td>0.0</td>\n",
              "      <td>0.0</td>\n",
              "      <td>1.0</td>\n",
              "      <td>1.0</td>\n",
              "      <td>4.0</td>\n",
              "    </tr>\n",
              "    <tr>\n",
              "      <th>Грузовой.лифт</th>\n",
              "      <td>1617.0</td>\n",
              "      <td>1.069882e-01</td>\n",
              "      <td>3.360470e-01</td>\n",
              "      <td>0.0</td>\n",
              "      <td>0.0</td>\n",
              "      <td>0.0</td>\n",
              "      <td>0.0</td>\n",
              "      <td>2.0</td>\n",
              "    </tr>\n",
              "    <tr>\n",
              "      <th>Мусоропровод</th>\n",
              "      <td>1617.0</td>\n",
              "      <td>5.207174e-01</td>\n",
              "      <td>4.997252e-01</td>\n",
              "      <td>0.0</td>\n",
              "      <td>0.0</td>\n",
              "      <td>1.0</td>\n",
              "      <td>1.0</td>\n",
              "      <td>1.0</td>\n",
              "    </tr>\n",
              "    <tr>\n",
              "      <th>Год.постройки</th>\n",
              "      <td>1617.0</td>\n",
              "      <td>1.986269e+03</td>\n",
              "      <td>2.022877e+01</td>\n",
              "      <td>1935.0</td>\n",
              "      <td>1969.0</td>\n",
              "      <td>1983.0</td>\n",
              "      <td>2007.0</td>\n",
              "      <td>2018.0</td>\n",
              "    </tr>\n",
              "    <tr>\n",
              "      <th>Аварийный</th>\n",
              "      <td>1617.0</td>\n",
              "      <td>2.473717e-03</td>\n",
              "      <td>4.969029e-02</td>\n",
              "      <td>0.0</td>\n",
              "      <td>0.0</td>\n",
              "      <td>0.0</td>\n",
              "      <td>0.0</td>\n",
              "      <td>1.0</td>\n",
              "    </tr>\n",
              "    <tr>\n",
              "      <th>Железобетонные.перекрытия</th>\n",
              "      <td>1617.0</td>\n",
              "      <td>9.220779e-01</td>\n",
              "      <td>2.681319e-01</td>\n",
              "      <td>0.0</td>\n",
              "      <td>1.0</td>\n",
              "      <td>1.0</td>\n",
              "      <td>1.0</td>\n",
              "      <td>1.0</td>\n",
              "    </tr>\n",
              "    <tr>\n",
              "      <th>Смешанные.перекрытия</th>\n",
              "      <td>1617.0</td>\n",
              "      <td>3.215832e-02</td>\n",
              "      <td>1.764750e-01</td>\n",
              "      <td>0.0</td>\n",
              "      <td>0.0</td>\n",
              "      <td>0.0</td>\n",
              "      <td>0.0</td>\n",
              "      <td>1.0</td>\n",
              "    </tr>\n",
              "    <tr>\n",
              "      <th>Деревянные.перекрытия</th>\n",
              "      <td>1617.0</td>\n",
              "      <td>4.143476e-02</td>\n",
              "      <td>1.993552e-01</td>\n",
              "      <td>0.0</td>\n",
              "      <td>0.0</td>\n",
              "      <td>0.0</td>\n",
              "      <td>0.0</td>\n",
              "      <td>1.0</td>\n",
              "    </tr>\n",
              "    <tr>\n",
              "      <th>Иные.перекрытия</th>\n",
              "      <td>1617.0</td>\n",
              "      <td>4.329004e-03</td>\n",
              "      <td>6.567291e-02</td>\n",
              "      <td>0.0</td>\n",
              "      <td>0.0</td>\n",
              "      <td>0.0</td>\n",
              "      <td>0.0</td>\n",
              "      <td>1.0</td>\n",
              "    </tr>\n",
              "    <tr>\n",
              "      <th>Панельные.стены</th>\n",
              "      <td>1617.0</td>\n",
              "      <td>6.122449e-01</td>\n",
              "      <td>4.873890e-01</td>\n",
              "      <td>0.0</td>\n",
              "      <td>0.0</td>\n",
              "      <td>1.0</td>\n",
              "      <td>1.0</td>\n",
              "      <td>1.0</td>\n",
              "    </tr>\n",
              "    <tr>\n",
              "      <th>Блочные.стены</th>\n",
              "      <td>1617.0</td>\n",
              "      <td>1.607916e-02</td>\n",
              "      <td>1.258190e-01</td>\n",
              "      <td>0.0</td>\n",
              "      <td>0.0</td>\n",
              "      <td>0.0</td>\n",
              "      <td>0.0</td>\n",
              "      <td>1.0</td>\n",
              "    </tr>\n",
              "    <tr>\n",
              "      <th>Деревянные.стены</th>\n",
              "      <td>1617.0</td>\n",
              "      <td>3.092146e-03</td>\n",
              "      <td>5.553820e-02</td>\n",
              "      <td>0.0</td>\n",
              "      <td>0.0</td>\n",
              "      <td>0.0</td>\n",
              "      <td>0.0</td>\n",
              "      <td>1.0</td>\n",
              "    </tr>\n",
              "    <tr>\n",
              "      <th>Кирпичные.стены</th>\n",
              "      <td>1617.0</td>\n",
              "      <td>3.178726e-01</td>\n",
              "      <td>4.657937e-01</td>\n",
              "      <td>0.0</td>\n",
              "      <td>0.0</td>\n",
              "      <td>0.0</td>\n",
              "      <td>1.0</td>\n",
              "      <td>1.0</td>\n",
              "    </tr>\n",
              "    <tr>\n",
              "      <th>Монолитные.стены</th>\n",
              "      <td>1617.0</td>\n",
              "      <td>3.463203e-02</td>\n",
              "      <td>1.829026e-01</td>\n",
              "      <td>0.0</td>\n",
              "      <td>0.0</td>\n",
              "      <td>0.0</td>\n",
              "      <td>0.0</td>\n",
              "      <td>1.0</td>\n",
              "    </tr>\n",
              "    <tr>\n",
              "      <th>Смешанные.стены</th>\n",
              "      <td>1617.0</td>\n",
              "      <td>1.607916e-02</td>\n",
              "      <td>1.258190e-01</td>\n",
              "      <td>0.0</td>\n",
              "      <td>0.0</td>\n",
              "      <td>0.0</td>\n",
              "      <td>0.0</td>\n",
              "      <td>1.0</td>\n",
              "    </tr>\n",
              "    <tr>\n",
              "      <th>Школа.1000</th>\n",
              "      <td>1617.0</td>\n",
              "      <td>4.210266e+00</td>\n",
              "      <td>2.656781e+00</td>\n",
              "      <td>0.0</td>\n",
              "      <td>2.0</td>\n",
              "      <td>4.0</td>\n",
              "      <td>6.0</td>\n",
              "      <td>15.0</td>\n",
              "    </tr>\n",
              "    <tr>\n",
              "      <th>ВУЗ.1000</th>\n",
              "      <td>1617.0</td>\n",
              "      <td>3.149660e+00</td>\n",
              "      <td>5.970005e+00</td>\n",
              "      <td>0.0</td>\n",
              "      <td>0.0</td>\n",
              "      <td>1.0</td>\n",
              "      <td>4.0</td>\n",
              "      <td>43.0</td>\n",
              "    </tr>\n",
              "    <tr>\n",
              "      <th>ТЦ.1000</th>\n",
              "      <td>1617.0</td>\n",
              "      <td>1.889920e+00</td>\n",
              "      <td>1.846258e+00</td>\n",
              "      <td>0.0</td>\n",
              "      <td>0.0</td>\n",
              "      <td>2.0</td>\n",
              "      <td>3.0</td>\n",
              "      <td>11.0</td>\n",
              "    </tr>\n",
              "    <tr>\n",
              "      <th>Стоматология.1000</th>\n",
              "      <td>1617.0</td>\n",
              "      <td>8.594929e+00</td>\n",
              "      <td>6.935688e+00</td>\n",
              "      <td>0.0</td>\n",
              "      <td>3.0</td>\n",
              "      <td>7.0</td>\n",
              "      <td>12.0</td>\n",
              "      <td>37.0</td>\n",
              "    </tr>\n",
              "    <tr>\n",
              "      <th>Почта.1000</th>\n",
              "      <td>1617.0</td>\n",
              "      <td>2.208411e+00</td>\n",
              "      <td>1.316490e+00</td>\n",
              "      <td>0.0</td>\n",
              "      <td>1.0</td>\n",
              "      <td>2.0</td>\n",
              "      <td>3.0</td>\n",
              "      <td>6.0</td>\n",
              "    </tr>\n",
              "    <tr>\n",
              "      <th>Поликлиника.1000</th>\n",
              "      <td>1617.0</td>\n",
              "      <td>2.314162e+00</td>\n",
              "      <td>1.680996e+00</td>\n",
              "      <td>0.0</td>\n",
              "      <td>1.0</td>\n",
              "      <td>2.0</td>\n",
              "      <td>3.0</td>\n",
              "      <td>10.0</td>\n",
              "    </tr>\n",
              "    <tr>\n",
              "      <th>Парк.1000</th>\n",
              "      <td>1617.0</td>\n",
              "      <td>8.058132e-01</td>\n",
              "      <td>9.482349e-01</td>\n",
              "      <td>0.0</td>\n",
              "      <td>0.0</td>\n",
              "      <td>1.0</td>\n",
              "      <td>1.0</td>\n",
              "      <td>4.0</td>\n",
              "    </tr>\n",
              "    <tr>\n",
              "      <th>Остановка.1000</th>\n",
              "      <td>1617.0</td>\n",
              "      <td>9.650588e+00</td>\n",
              "      <td>5.470871e+00</td>\n",
              "      <td>0.0</td>\n",
              "      <td>6.0</td>\n",
              "      <td>9.0</td>\n",
              "      <td>12.0</td>\n",
              "      <td>31.0</td>\n",
              "    </tr>\n",
              "    <tr>\n",
              "      <th>Одежда..1000</th>\n",
              "      <td>1617.0</td>\n",
              "      <td>1.123129e+01</td>\n",
              "      <td>1.607119e+01</td>\n",
              "      <td>0.0</td>\n",
              "      <td>2.0</td>\n",
              "      <td>5.0</td>\n",
              "      <td>13.0</td>\n",
              "      <td>86.0</td>\n",
              "    </tr>\n",
              "    <tr>\n",
              "      <th>Супер3кет.1000</th>\n",
              "      <td>1617.0</td>\n",
              "      <td>4.809524e+00</td>\n",
              "      <td>3.214614e+00</td>\n",
              "      <td>0.0</td>\n",
              "      <td>2.0</td>\n",
              "      <td>5.0</td>\n",
              "      <td>7.0</td>\n",
              "      <td>14.0</td>\n",
              "    </tr>\n",
              "    <tr>\n",
              "      <th>Кинотеатр.1000</th>\n",
              "      <td>1617.0</td>\n",
              "      <td>1.620284e-01</td>\n",
              "      <td>4.023050e-01</td>\n",
              "      <td>0.0</td>\n",
              "      <td>0.0</td>\n",
              "      <td>0.0</td>\n",
              "      <td>0.0</td>\n",
              "      <td>2.0</td>\n",
              "    </tr>\n",
              "    <tr>\n",
              "      <th>Кафе.1000</th>\n",
              "      <td>1617.0</td>\n",
              "      <td>8.354978e+00</td>\n",
              "      <td>9.616928e+00</td>\n",
              "      <td>0.0</td>\n",
              "      <td>3.0</td>\n",
              "      <td>6.0</td>\n",
              "      <td>10.0</td>\n",
              "      <td>72.0</td>\n",
              "    </tr>\n",
              "    <tr>\n",
              "      <th>АЗС.1000</th>\n",
              "      <td>1617.0</td>\n",
              "      <td>2.448361e+00</td>\n",
              "      <td>1.666490e+00</td>\n",
              "      <td>0.0</td>\n",
              "      <td>1.0</td>\n",
              "      <td>2.0</td>\n",
              "      <td>3.0</td>\n",
              "      <td>9.0</td>\n",
              "    </tr>\n",
              "    <tr>\n",
              "      <th>Детский.сад.1000</th>\n",
              "      <td>1617.0</td>\n",
              "      <td>1.341991e+01</td>\n",
              "      <td>7.506263e+00</td>\n",
              "      <td>0.0</td>\n",
              "      <td>8.0</td>\n",
              "      <td>13.0</td>\n",
              "      <td>18.0</td>\n",
              "      <td>42.0</td>\n",
              "    </tr>\n",
              "    <tr>\n",
              "      <th>Бар.1000</th>\n",
              "      <td>1617.0</td>\n",
              "      <td>4.349412e+00</td>\n",
              "      <td>6.355475e+00</td>\n",
              "      <td>0.0</td>\n",
              "      <td>1.0</td>\n",
              "      <td>3.0</td>\n",
              "      <td>5.0</td>\n",
              "      <td>55.0</td>\n",
              "    </tr>\n",
              "    <tr>\n",
              "      <th>Банк.1000</th>\n",
              "      <td>1617.0</td>\n",
              "      <td>7.223871e+00</td>\n",
              "      <td>7.284399e+00</td>\n",
              "      <td>0.0</td>\n",
              "      <td>2.0</td>\n",
              "      <td>5.0</td>\n",
              "      <td>11.0</td>\n",
              "      <td>44.0</td>\n",
              "    </tr>\n",
              "    <tr>\n",
              "      <th>Аптека.1000</th>\n",
              "      <td>1617.0</td>\n",
              "      <td>1.384848e+01</td>\n",
              "      <td>8.144498e+00</td>\n",
              "      <td>0.0</td>\n",
              "      <td>8.0</td>\n",
              "      <td>13.0</td>\n",
              "      <td>19.0</td>\n",
              "      <td>40.0</td>\n",
              "    </tr>\n",
              "  </tbody>\n",
              "</table>\n",
              "</div>"
            ],
            "text/plain": [
              "                            count          mean           std       min  \\\n",
              "Количество.комнат          1617.0  2.064935e+00  1.026922e+00       1.0   \n",
              "Студия                     1617.0  4.885591e-02  2.156334e-01       0.0   \n",
              "Общая.площадь              1617.0  5.198565e+01  2.389153e+01      10.0   \n",
              "Этаж                       1617.0  4.901051e+00  3.762452e+00       1.0   \n",
              "Этажей.в.доме              1617.0  8.889920e+00  4.821466e+00       2.0   \n",
              "Парковка                   1617.0  1.422387e-01  3.494029e-01       0.0   \n",
              "Цена                       1617.0  2.777592e+06  1.345226e+06  499000.0   \n",
              "Без.ремонта                1617.0  1.014224e-01  3.019806e-01       0.0   \n",
              "Дизайнерский               1617.0  3.586889e-02  1.860207e-01       0.0   \n",
              "Евроремонт                 1617.0  9.523810e-02  2.936343e-01       0.0   \n",
              "Косметический              1617.0  7.674706e-01  4.225753e-01       0.0   \n",
              "Балкон                     1617.0  6.134818e-01  6.270640e-01       0.0   \n",
              "Лоджия                     1617.0  2.164502e-01  4.837984e-01       0.0   \n",
              "Совмещенный.санузел        1617.0  4.069264e-01  4.989112e-01       0.0   \n",
              "Раздельный.санузел         1617.0  4.786642e-01  5.179417e-01       0.0   \n",
              "Лифт                       1617.0  5.435993e-01  5.733221e-01       0.0   \n",
              "Грузовой.лифт              1617.0  1.069882e-01  3.360470e-01       0.0   \n",
              "Мусоропровод               1617.0  5.207174e-01  4.997252e-01       0.0   \n",
              "Год.постройки              1617.0  1.986269e+03  2.022877e+01    1935.0   \n",
              "Аварийный                  1617.0  2.473717e-03  4.969029e-02       0.0   \n",
              "Железобетонные.перекрытия  1617.0  9.220779e-01  2.681319e-01       0.0   \n",
              "Смешанные.перекрытия       1617.0  3.215832e-02  1.764750e-01       0.0   \n",
              "Деревянные.перекрытия      1617.0  4.143476e-02  1.993552e-01       0.0   \n",
              "Иные.перекрытия            1617.0  4.329004e-03  6.567291e-02       0.0   \n",
              "Панельные.стены            1617.0  6.122449e-01  4.873890e-01       0.0   \n",
              "Блочные.стены              1617.0  1.607916e-02  1.258190e-01       0.0   \n",
              "Деревянные.стены           1617.0  3.092146e-03  5.553820e-02       0.0   \n",
              "Кирпичные.стены            1617.0  3.178726e-01  4.657937e-01       0.0   \n",
              "Монолитные.стены           1617.0  3.463203e-02  1.829026e-01       0.0   \n",
              "Смешанные.стены            1617.0  1.607916e-02  1.258190e-01       0.0   \n",
              "Школа.1000                 1617.0  4.210266e+00  2.656781e+00       0.0   \n",
              "ВУЗ.1000                   1617.0  3.149660e+00  5.970005e+00       0.0   \n",
              "ТЦ.1000                    1617.0  1.889920e+00  1.846258e+00       0.0   \n",
              "Стоматология.1000          1617.0  8.594929e+00  6.935688e+00       0.0   \n",
              "Почта.1000                 1617.0  2.208411e+00  1.316490e+00       0.0   \n",
              "Поликлиника.1000           1617.0  2.314162e+00  1.680996e+00       0.0   \n",
              "Парк.1000                  1617.0  8.058132e-01  9.482349e-01       0.0   \n",
              "Остановка.1000             1617.0  9.650588e+00  5.470871e+00       0.0   \n",
              "Одежда..1000               1617.0  1.123129e+01  1.607119e+01       0.0   \n",
              "Супер3кет.1000             1617.0  4.809524e+00  3.214614e+00       0.0   \n",
              "Кинотеатр.1000             1617.0  1.620284e-01  4.023050e-01       0.0   \n",
              "Кафе.1000                  1617.0  8.354978e+00  9.616928e+00       0.0   \n",
              "АЗС.1000                   1617.0  2.448361e+00  1.666490e+00       0.0   \n",
              "Детский.сад.1000           1617.0  1.341991e+01  7.506263e+00       0.0   \n",
              "Бар.1000                   1617.0  4.349412e+00  6.355475e+00       0.0   \n",
              "Банк.1000                  1617.0  7.223871e+00  7.284399e+00       0.0   \n",
              "Аптека.1000                1617.0  1.384848e+01  8.144498e+00       0.0   \n",
              "\n",
              "                                 25%        50%        75%         max  \n",
              "Количество.комнат                1.0        2.0        3.0         6.0  \n",
              "Студия                           0.0        0.0        0.0         1.0  \n",
              "Общая.площадь                   37.5       48.0       63.7       255.0  \n",
              "Этаж                             2.0        4.0        6.0        25.0  \n",
              "Этажей.в.доме                    5.0        9.0       10.0        27.0  \n",
              "Парковка                         0.0        0.0        0.0         1.0  \n",
              "Цена                       1950000.0  2575000.0  3350000.0  14850000.0  \n",
              "Без.ремонта                      0.0        0.0        0.0         1.0  \n",
              "Дизайнерский                     0.0        0.0        0.0         1.0  \n",
              "Евроремонт                       0.0        0.0        0.0         1.0  \n",
              "Косметический                    1.0        1.0        1.0         1.0  \n",
              "Балкон                           0.0        1.0        1.0         4.0  \n",
              "Лоджия                           0.0        0.0        0.0         4.0  \n",
              "Совмещенный.санузел              0.0        0.0        1.0         2.0  \n",
              "Раздельный.санузел               0.0        0.0        1.0         2.0  \n",
              "Лифт                             0.0        1.0        1.0         4.0  \n",
              "Грузовой.лифт                    0.0        0.0        0.0         2.0  \n",
              "Мусоропровод                     0.0        1.0        1.0         1.0  \n",
              "Год.постройки                 1969.0     1983.0     2007.0      2018.0  \n",
              "Аварийный                        0.0        0.0        0.0         1.0  \n",
              "Железобетонные.перекрытия        1.0        1.0        1.0         1.0  \n",
              "Смешанные.перекрытия             0.0        0.0        0.0         1.0  \n",
              "Деревянные.перекрытия            0.0        0.0        0.0         1.0  \n",
              "Иные.перекрытия                  0.0        0.0        0.0         1.0  \n",
              "Панельные.стены                  0.0        1.0        1.0         1.0  \n",
              "Блочные.стены                    0.0        0.0        0.0         1.0  \n",
              "Деревянные.стены                 0.0        0.0        0.0         1.0  \n",
              "Кирпичные.стены                  0.0        0.0        1.0         1.0  \n",
              "Монолитные.стены                 0.0        0.0        0.0         1.0  \n",
              "Смешанные.стены                  0.0        0.0        0.0         1.0  \n",
              "Школа.1000                       2.0        4.0        6.0        15.0  \n",
              "ВУЗ.1000                         0.0        1.0        4.0        43.0  \n",
              "ТЦ.1000                          0.0        2.0        3.0        11.0  \n",
              "Стоматология.1000                3.0        7.0       12.0        37.0  \n",
              "Почта.1000                       1.0        2.0        3.0         6.0  \n",
              "Поликлиника.1000                 1.0        2.0        3.0        10.0  \n",
              "Парк.1000                        0.0        1.0        1.0         4.0  \n",
              "Остановка.1000                   6.0        9.0       12.0        31.0  \n",
              "Одежда..1000                     2.0        5.0       13.0        86.0  \n",
              "Супер3кет.1000                   2.0        5.0        7.0        14.0  \n",
              "Кинотеатр.1000                   0.0        0.0        0.0         2.0  \n",
              "Кафе.1000                        3.0        6.0       10.0        72.0  \n",
              "АЗС.1000                         1.0        2.0        3.0         9.0  \n",
              "Детский.сад.1000                 8.0       13.0       18.0        42.0  \n",
              "Бар.1000                         1.0        3.0        5.0        55.0  \n",
              "Банк.1000                        2.0        5.0       11.0        44.0  \n",
              "Аптека.1000                      8.0       13.0       19.0        40.0  "
            ]
          },
          "execution_count": 11,
          "metadata": {},
          "output_type": "execute_result"
        }
      ],
      "source": [
        "df.describe().T"
      ]
    },
    {
      "cell_type": "code",
      "execution_count": 12,
      "id": "29cfb6e1",
      "metadata": {
        "colab": {
          "base_uri": "https://localhost:8080/",
          "height": 458
        },
        "id": "29cfb6e1",
        "outputId": "19b2cc9a-0faa-40f9-f9ee-605f7b9d3a89"
      },
      "outputs": [
        {
          "data": {
            "text/plain": [
              "0       35.1\n",
              "1       95.2\n",
              "2       34.0\n",
              "3       41.0\n",
              "4       42.0\n",
              "        ... \n",
              "1612    46.0\n",
              "1613    52.4\n",
              "1614    65.0\n",
              "1615    48.0\n",
              "1616    34.0\n",
              "Name: Общая.площадь, Length: 1617, dtype: float64"
            ]
          },
          "execution_count": 12,
          "metadata": {},
          "output_type": "execute_result"
        }
      ],
      "source": [
        "df[\"Общая.площадь\"]"
      ]
    },
    {
      "cell_type": "code",
      "execution_count": 13,
      "id": "1b89937f",
      "metadata": {
        "colab": {
          "base_uri": "https://localhost:8080/",
          "height": 462
        },
        "id": "1b89937f",
        "outputId": "28ad0f89-be20-487b-d538-6b46f409154d"
      },
      "outputs": [
        {
          "data": {
            "text/plain": [
              "<matplotlib.collections.PathCollection at 0x16e99c988c0>"
            ]
          },
          "execution_count": 13,
          "metadata": {},
          "output_type": "execute_result"
        },
        {
          "data": {
            "image/png": "[encoded data removed]",
            "text/plain": [
              "<Figure size 640x480 with 1 Axes>"
            ]
          },
          "metadata": {},
          "output_type": "display_data"
        }
      ],
      "source": [
        "plt.scatter(df[\"Общая.площадь\"], df[\"Цена\"])"
      ]
    },
    {
      "cell_type": "code",
      "execution_count": null,
      "id": "b151bd23",
      "metadata": {
        "id": "b151bd23"
      },
      "outputs": [],
      "source": []
    },
    {
      "cell_type": "code",
      "execution_count": 14,
      "id": "86ad7654",
      "metadata": {
        "id": "86ad7654"
      },
      "outputs": [],
      "source": [
        "min_max_scaler_x = preprocessing.MinMaxScaler()\n",
        "min_max_scaler_y = preprocessing.MinMaxScaler()"
      ]
    },
    {
      "cell_type": "code",
      "execution_count": 15,
      "id": "82797785",
      "metadata": {
        "id": "82797785"
      },
      "outputs": [],
      "source": [
        "df_y = df[[\"Цена\"]]\n",
        "df_x = df[[\"Общая.площадь\"]]"
      ]
    },
    {
      "cell_type": "code",
      "execution_count": 16,
      "id": "7a04b0c4",
      "metadata": {
        "id": "7a04b0c4"
      },
      "outputs": [],
      "source": [
        "df_scaled_x = min_max_scaler_x.fit_transform(df_x)\n",
        "df_scaled_y = min_max_scaler_y.fit_transform(df_y)"
      ]
    },
    {
      "cell_type": "code",
      "execution_count": 17,
      "id": "5624e282",
      "metadata": {
        "id": "5624e282"
      },
      "outputs": [],
      "source": [
        "from sklearn.model_selection import train_test_split\n",
        "\n",
        "X_train, X_test, y_train, y_test = train_test_split(df_scaled_x,\n",
        "                                                    df_scaled_y[:, 0],\n",
        "                                                    test_size=0.2)"
      ]
    },
    {
      "cell_type": "markdown",
      "id": "20d4d5e4",
      "metadata": {
        "id": "20d4d5e4"
      },
      "source": [
        "Базовая модель - линейная регрессия"
      ]
    },
    {
      "cell_type": "code",
      "execution_count": 34,
      "id": "5bffd3bc",
      "metadata": {
        "id": "5bffd3bc"
      },
      "outputs": [],
      "source": [
        "from sklearn.linear_model import LinearRegression\n",
        "from sklearn import metrics"
      ]
    },
    {
      "cell_type": "code",
      "execution_count": 35,
      "id": "5a1a202b",
      "metadata": {
        "colab": {
          "base_uri": "https://localhost:8080/",
          "height": 80
        },
        "id": "5a1a202b",
        "outputId": "cca4dd61-b018-4806-f87f-4a8f80f311ec"
      },
      "outputs": [
        {
          "data": {
            "text/html": [
              "<style>#sk-container-id-3 {\n",
              "  /* Definition of color scheme common for light and dark mode */\n",
              "  --sklearn-color-text: black;\n",
              "  --sklearn-color-line: gray;\n",
              "  /* Definition of color scheme for unfitted estimators */\n",
              "  --sklearn-color-unfitted-level-0: #fff5e6;\n",
              "  --sklearn-color-unfitted-level-1: #f6e4d2;\n",
              "  --sklearn-color-unfitted-level-2: #ffe0b3;\n",
              "  --sklearn-color-unfitted-level-3: chocolate;\n",
              "  /* Definition of color scheme for fitted estimators */\n",
              "  --sklearn-color-fitted-level-0: #f0f8ff;\n",
              "  --sklearn-color-fitted-level-1: #d4ebff;\n",
              "  --sklearn-color-fitted-level-2: #b3dbfd;\n",
              "  --sklearn-color-fitted-level-3: cornflowerblue;\n",
              "\n",
              "  /* Specific color for light theme */\n",
              "  --sklearn-color-text-on-default-background: var(--sg-text-color, var(--theme-code-foreground, var(--jp-content-font-color1, black)));\n",
              "  --sklearn-color-background: var(--sg-background-color, var(--theme-background, var(--jp-layout-color0, white)));\n",
              "  --sklearn-color-border-box: var(--sg-text-color, var(--theme-code-foreground, var(--jp-content-font-color1, black)));\n",
              "  --sklearn-color-icon: #696969;\n",
              "\n",
              "  @media (prefers-color-scheme: dark) {\n",
              "    /* Redefinition of color scheme for dark theme */\n",
              "    --sklearn-color-text-on-default-background: var(--sg-text-color, var(--theme-code-foreground, var(--jp-content-font-color1, white)));\n",
              "    --sklearn-color-background: var(--sg-background-color, var(--theme-background, var(--jp-layout-color0, #111)));\n",
              "    --sklearn-color-border-box: var(--sg-text-color, var(--theme-code-foreground, var(--jp-content-font-color1, white)));\n",
              "    --sklearn-color-icon: #878787;\n",
              "  }\n",
              "}\n",
              "\n",
              "#sk-container-id-3 {\n",
              "  color: var(--sklearn-color-text);\n",
              "}\n",
              "\n",
              "#sk-container-id-3 pre {\n",
              "  padding: 0;\n",
              "}\n",
              "\n",
              "#sk-container-id-3 input.sk-hidden--visually {\n",
              "  border: 0;\n",
              "  clip: rect(1px 1px 1px 1px);\n",
              "  clip: rect(1px, 1px, 1px, 1px);\n",
              "  height: 1px;\n",
              "  margin: -1px;\n",
              "  overflow: hidden;\n",
              "  padding: 0;\n",
              "  position: absolute;\n",
              "  width: 1px;\n",
              "}\n",
              "\n",
              "#sk-container-id-3 div.sk-dashed-wrapped {\n",
              "  border: 1px dashed var(--sklearn-color-line);\n",
              "  margin: 0 0.4em 0.5em 0.4em;\n",
              "  box-sizing: border-box;\n",
              "  padding-bottom: 0.4em;\n",
              "  background-color: var(--sklearn-color-background);\n",
              "}\n",
              "\n",
              "#sk-container-id-3 div.sk-container {\n",
              "  /* jupyter's `normalize.less` sets `[hidden] { display: none; }`\n",
              "     but bootstrap.min.css set `[hidden] { display: none !important; }`\n",
              "     so we also need the `!important` here to be able to override the\n",
              "     default hidden behavior on the sphinx rendered scikit-learn.org.\n",
              "     See: https://github.com/scikit-learn/scikit-learn/issues/21755 */\n",
              "  display: inline-block !important;\n",
              "  position: relative;\n",
              "}\n",
              "\n",
              "#sk-container-id-3 div.sk-text-repr-fallback {\n",
              "  display: none;\n",
              "}\n",
              "\n",
              "div.sk-parallel-item,\n",
              "div.sk-serial,\n",
              "div.sk-item {\n",
              "  /* draw centered vertical line to link estimators */\n",
              "  background-image: linear-gradient(var(--sklearn-color-text-on-default-background), var(--sklearn-color-text-on-default-background));\n",
              "  background-size: 2px 100%;\n",
              "  background-repeat: no-repeat;\n",
              "  background-position: center center;\n",
              "}\n",
              "\n",
              "/* Parallel-specific style estimator block */\n",
              "\n",
              "#sk-container-id-3 div.sk-parallel-item::after {\n",
              "  content: \"\";\n",
              "  width: 100%;\n",
              "  border-bottom: 2px solid var(--sklearn-color-text-on-default-background);\n",
              "  flex-grow: 1;\n",
              "}\n",
              "\n",
              "#sk-container-id-3 div.sk-parallel {\n",
              "  display: flex;\n",
              "  align-items: stretch;\n",
              "  justify-content: center;\n",
              "  background-color: var(--sklearn-color-background);\n",
              "  position: relative;\n",
              "}\n",
              "\n",
              "#sk-container-id-3 div.sk-parallel-item {\n",
              "  display: flex;\n",
              "  flex-direction: column;\n",
              "}\n",
              "\n",
              "#sk-container-id-3 div.sk-parallel-item:first-child::after {\n",
              "  align-self: flex-end;\n",
              "  width: 50%;\n",
              "}\n",
              "\n",
              "#sk-container-id-3 div.sk-parallel-item:last-child::after {\n",
              "  align-self: flex-start;\n",
              "  width: 50%;\n",
              "}\n",
              "\n",
              "#sk-container-id-3 div.sk-parallel-item:only-child::after {\n",
              "  width: 0;\n",
              "}\n",
              "\n",
              "/* Serial-specific style estimator block */\n",
              "\n",
              "#sk-container-id-3 div.sk-serial {\n",
              "  display: flex;\n",
              "  flex-direction: column;\n",
              "  align-items: center;\n",
              "  background-color: var(--sklearn-color-background);\n",
              "  padding-right: 1em;\n",
              "  padding-left: 1em;\n",
              "}\n",
              "\n",
              "\n",
              "/* Toggleable style: style used for estimator/Pipeline/ColumnTransformer box that is\n",
              "clickable and can be expanded/collapsed.\n",
              "- Pipeline and ColumnTransformer use this feature and define the default style\n",
              "- Estimators will overwrite some part of the style using the `sk-estimator` class\n",
              "*/\n",
              "\n",
              "/* Pipeline and ColumnTransformer style (default) */\n",
              "\n",
              "#sk-container-id-3 div.sk-toggleable {\n",
              "  /* Default theme specific background. It is overwritten whether we have a\n",
              "  specific estimator or a Pipeline/ColumnTransformer */\n",
              "  background-color: var(--sklearn-color-background);\n",
              "}\n",
              "\n",
              "/* Toggleable label */\n",
              "#sk-container-id-3 label.sk-toggleable__label {\n",
              "  cursor: pointer;\n",
              "  display: block;\n",
              "  width: 100%;\n",
              "  margin-bottom: 0;\n",
              "  padding: 0.5em;\n",
              "  box-sizing: border-box;\n",
              "  text-align: center;\n",
              "}\n",
              "\n",
              "#sk-container-id-3 label.sk-toggleable__label-arrow:before {\n",
              "  /* Arrow on the left of the label */\n",
              "  content: \"▸\";\n",
              "  float: left;\n",
              "  margin-right: 0.25em;\n",
              "  color: var(--sklearn-color-icon);\n",
              "}\n",
              "\n",
              "#sk-container-id-3 label.sk-toggleable__label-arrow:hover:before {\n",
              "  color: var(--sklearn-color-text);\n",
              "}\n",
              "\n",
              "/* Toggleable content - dropdown */\n",
              "\n",
              "#sk-container-id-3 div.sk-toggleable__content {\n",
              "  max-height: 0;\n",
              "  max-width: 0;\n",
              "  overflow: hidden;\n",
              "  text-align: left;\n",
              "  /* unfitted */\n",
              "  background-color: var(--sklearn-color-unfitted-level-0);\n",
              "}\n",
              "\n",
              "#sk-container-id-3 div.sk-toggleable__content.fitted {\n",
              "  /* fitted */\n",
              "  background-color: var(--sklearn-color-fitted-level-0);\n",
              "}\n",
              "\n",
              "#sk-container-id-3 div.sk-toggleable__content pre {\n",
              "  margin: 0.2em;\n",
              "  border-radius: 0.25em;\n",
              "  color: var(--sklearn-color-text);\n",
              "  /* unfitted */\n",
              "  background-color: var(--sklearn-color-unfitted-level-0);\n",
              "}\n",
              "\n",
              "#sk-container-id-3 div.sk-toggleable__content.fitted pre {\n",
              "  /* unfitted */\n",
              "  background-color: var(--sklearn-color-fitted-level-0);\n",
              "}\n",
              "\n",
              "#sk-container-id-3 input.sk-toggleable__control:checked~div.sk-toggleable__content {\n",
              "  /* Expand drop-down */\n",
              "  max-height: 200px;\n",
              "  max-width: 100%;\n",
              "  overflow: auto;\n",
              "}\n",
              "\n",
              "#sk-container-id-3 input.sk-toggleable__control:checked~label.sk-toggleable__label-arrow:before {\n",
              "  content: \"▾\";\n",
              "}\n",
              "\n",
              "/* Pipeline/ColumnTransformer-specific style */\n",
              "\n",
              "#sk-container-id-3 div.sk-label input.sk-toggleable__control:checked~label.sk-toggleable__label {\n",
              "  color: var(--sklearn-color-text);\n",
              "  background-color: var(--sklearn-color-unfitted-level-2);\n",
              "}\n",
              "\n",
              "#sk-container-id-3 div.sk-label.fitted input.sk-toggleable__control:checked~label.sk-toggleable__label {\n",
              "  background-color: var(--sklearn-color-fitted-level-2);\n",
              "}\n",
              "\n",
              "/* Estimator-specific style */\n",
              "\n",
              "/* Colorize estimator box */\n",
              "#sk-container-id-3 div.sk-estimator input.sk-toggleable__control:checked~label.sk-toggleable__label {\n",
              "  /* unfitted */\n",
              "  background-color: var(--sklearn-color-unfitted-level-2);\n",
              "}\n",
              "\n",
              "#sk-container-id-3 div.sk-estimator.fitted input.sk-toggleable__control:checked~label.sk-toggleable__label {\n",
              "  /* fitted */\n",
              "  background-color: var(--sklearn-color-fitted-level-2);\n",
              "}\n",
              "\n",
              "#sk-container-id-3 div.sk-label label.sk-toggleable__label,\n",
              "#sk-container-id-3 div.sk-label label {\n",
              "  /* The background is the default theme color */\n",
              "  color: var(--sklearn-color-text-on-default-background);\n",
              "}\n",
              "\n",
              "/* On hover, darken the color of the background */\n",
              "#sk-container-id-3 div.sk-label:hover label.sk-toggleable__label {\n",
              "  color: var(--sklearn-color-text);\n",
              "  background-color: var(--sklearn-color-unfitted-level-2);\n",
              "}\n",
              "\n",
              "/* Label box, darken color on hover, fitted */\n",
              "#sk-container-id-3 div.sk-label.fitted:hover label.sk-toggleable__label.fitted {\n",
              "  color: var(--sklearn-color-text);\n",
              "  background-color: var(--sklearn-color-fitted-level-2);\n",
              "}\n",
              "\n",
              "/* Estimator label */\n",
              "\n",
              "#sk-container-id-3 div.sk-label label {\n",
              "  font-family: monospace;\n",
              "  font-weight: bold;\n",
              "  display: inline-block;\n",
              "  line-height: 1.2em;\n",
              "}\n",
              "\n",
              "#sk-container-id-3 div.sk-label-container {\n",
              "  text-align: center;\n",
              "}\n",
              "\n",
              "/* Estimator-specific */\n",
              "#sk-container-id-3 div.sk-estimator {\n",
              "  font-family: monospace;\n",
              "  border: 1px dotted var(--sklearn-color-border-box);\n",
              "  border-radius: 0.25em;\n",
              "  box-sizing: border-box;\n",
              "  margin-bottom: 0.5em;\n",
              "  /* unfitted */\n",
              "  background-color: var(--sklearn-color-unfitted-level-0);\n",
              "}\n",
              "\n",
              "#sk-container-id-3 div.sk-estimator.fitted {\n",
              "  /* fitted */\n",
              "  background-color: var(--sklearn-color-fitted-level-0);\n",
              "}\n",
              "\n",
              "/* on hover */\n",
              "#sk-container-id-3 div.sk-estimator:hover {\n",
              "  /* unfitted */\n",
              "  background-color: var(--sklearn-color-unfitted-level-2);\n",
              "}\n",
              "\n",
              "#sk-container-id-3 div.sk-estimator.fitted:hover {\n",
              "  /* fitted */\n",
              "  background-color: var(--sklearn-color-fitted-level-2);\n",
              "}\n",
              "\n",
              "/* Specification for estimator info (e.g. \"i\" and \"?\") */\n",
              "\n",
              "/* Common style for \"i\" and \"?\" */\n",
              "\n",
              ".sk-estimator-doc-link,\n",
              "a:link.sk-estimator-doc-link,\n",
              "a:visited.sk-estimator-doc-link {\n",
              "  float: right;\n",
              "  font-size: smaller;\n",
              "  line-height: 1em;\n",
              "  font-family: monospace;\n",
              "  background-color: var(--sklearn-color-background);\n",
              "  border-radius: 1em;\n",
              "  height: 1em;\n",
              "  width: 1em;\n",
              "  text-decoration: none !important;\n",
              "  margin-left: 1ex;\n",
              "  /* unfitted */\n",
              "  border: var(--sklearn-color-unfitted-level-1) 1pt solid;\n",
              "  color: var(--sklearn-color-unfitted-level-1);\n",
              "}\n",
              "\n",
              ".sk-estimator-doc-link.fitted,\n",
              "a:link.sk-estimator-doc-link.fitted,\n",
              "a:visited.sk-estimator-doc-link.fitted {\n",
              "  /* fitted */\n",
              "  border: var(--sklearn-color-fitted-level-1) 1pt solid;\n",
              "  color: var(--sklearn-color-fitted-level-1);\n",
              "}\n",
              "\n",
              "/* On hover */\n",
              "div.sk-estimator:hover .sk-estimator-doc-link:hover,\n",
              ".sk-estimator-doc-link:hover,\n",
              "div.sk-label-container:hover .sk-estimator-doc-link:hover,\n",
              ".sk-estimator-doc-link:hover {\n",
              "  /* unfitted */\n",
              "  background-color: var(--sklearn-color-unfitted-level-3);\n",
              "  color: var(--sklearn-color-background);\n",
              "  text-decoration: none;\n",
              "}\n",
              "\n",
              "div.sk-estimator.fitted:hover .sk-estimator-doc-link.fitted:hover,\n",
              ".sk-estimator-doc-link.fitted:hover,\n",
              "div.sk-label-container:hover .sk-estimator-doc-link.fitted:hover,\n",
              ".sk-estimator-doc-link.fitted:hover {\n",
              "  /* fitted */\n",
              "  background-color: var(--sklearn-color-fitted-level-3);\n",
              "  color: var(--sklearn-color-background);\n",
              "  text-decoration: none;\n",
              "}\n",
              "\n",
              "/* Span, style for the box shown on hovering the info icon */\n",
              ".sk-estimator-doc-link span {\n",
              "  display: none;\n",
              "  z-index: 9999;\n",
              "  position: relative;\n",
              "  font-weight: normal;\n",
              "  right: .2ex;\n",
              "  padding: .5ex;\n",
              "  margin: .5ex;\n",
              "  width: min-content;\n",
              "  min-width: 20ex;\n",
              "  max-width: 50ex;\n",
              "  color: var(--sklearn-color-text);\n",
              "  box-shadow: 2pt 2pt 4pt #999;\n",
              "  /* unfitted */\n",
              "  background: var(--sklearn-color-unfitted-level-0);\n",
              "  border: .5pt solid var(--sklearn-color-unfitted-level-3);\n",
              "}\n",
              "\n",
              ".sk-estimator-doc-link.fitted span {\n",
              "  /* fitted */\n",
              "  background: var(--sklearn-color-fitted-level-0);\n",
              "  border: var(--sklearn-color-fitted-level-3);\n",
              "}\n",
              "\n",
              ".sk-estimator-doc-link:hover span {\n",
              "  display: block;\n",
              "}\n",
              "\n",
              "/* \"?\"-specific style due to the `<a>` HTML tag */\n",
              "\n",
              "#sk-container-id-3 a.estimator_doc_link {\n",
              "  float: right;\n",
              "  font-size: 1rem;\n",
              "  line-height: 1em;\n",
              "  font-family: monospace;\n",
              "  background-color: var(--sklearn-color-background);\n",
              "  border-radius: 1rem;\n",
              "  height: 1rem;\n",
              "  width: 1rem;\n",
              "  text-decoration: none;\n",
              "  /* unfitted */\n",
              "  color: var(--sklearn-color-unfitted-level-1);\n",
              "  border: var(--sklearn-color-unfitted-level-1) 1pt solid;\n",
              "}\n",
              "\n",
              "#sk-container-id-3 a.estimator_doc_link.fitted {\n",
              "  /* fitted */\n",
              "  border: var(--sklearn-color-fitted-level-1) 1pt solid;\n",
              "  color: var(--sklearn-color-fitted-level-1);\n",
              "}\n",
              "\n",
              "/* On hover */\n",
              "#sk-container-id-3 a.estimator_doc_link:hover {\n",
              "  /* unfitted */\n",
              "  background-color: var(--sklearn-color-unfitted-level-3);\n",
              "  color: var(--sklearn-color-background);\n",
              "  text-decoration: none;\n",
              "}\n",
              "\n",
              "#sk-container-id-3 a.estimator_doc_link.fitted:hover {\n",
              "  /* fitted */\n",
              "  background-color: var(--sklearn-color-fitted-level-3);\n",
              "}\n",
              "</style><div id=\"sk-container-id-3\" class=\"sk-top-container\"><div class=\"sk-text-repr-fallback\"><pre>LinearRegression()</pre><b>In a Jupyter environment, please rerun this cell to show the HTML representation or trust the notebook. <br />On GitHub, the HTML representation is unable to render, please try loading this page with nbviewer.org.</b></div><div class=\"sk-container\" hidden><div class=\"sk-item\"><div class=\"sk-estimator fitted sk-toggleable\"><input class=\"sk-toggleable__control sk-hidden--visually\" id=\"sk-estimator-id-3\" type=\"checkbox\" checked><label for=\"sk-estimator-id-3\" class=\"sk-toggleable__label fitted sk-toggleable__label-arrow fitted\">&nbsp;&nbsp;LinearRegression<a class=\"sk-estimator-doc-link fitted\" rel=\"noreferrer\" target=\"_blank\" href=\"https://scikit-learn.org/1.5/modules/generated/sklearn.linear_model.LinearRegression.html\">?<span>Documentation for LinearRegression</span></a><span class=\"sk-estimator-doc-link fitted\">i<span>Fitted</span></span></label><div class=\"sk-toggleable__content fitted\"><pre>LinearRegression()</pre></div> </div></div></div></div>"
            ],
            "text/plain": [
              "LinearRegression()"
            ]
          },
          "execution_count": 35,
          "metadata": {},
          "output_type": "execute_result"
        }
      ],
      "source": [
        "regressor = LinearRegression()\n",
        "regressor.fit(X_train, y_train)"
      ]
    },
    {
      "cell_type": "code",
      "execution_count": 36,
      "id": "dde2e5c9",
      "metadata": {
        "id": "dde2e5c9"
      },
      "outputs": [],
      "source": [
        "y_pred = regressor.predict(X_test)"
      ]
    },
    {
      "cell_type": "code",
      "execution_count": 37,
      "id": "354107c4",
      "metadata": {
        "colab": {
          "base_uri": "https://localhost:8080/",
          "height": 466
        },
        "id": "354107c4",
        "outputId": "1206d015-b5cc-47f5-cdc8-d56bab88462f"
      },
      "outputs": [
        {
          "data": {
            "image/png": "[encoded data removed]",
            "text/plain": [
              "<Figure size 640x480 with 1 Axes>"
            ]
          },
          "metadata": {},
          "output_type": "display_data"
        },
        {
          "name": "stdout",
          "output_type": "stream",
          "text": [
            "Корень из среднеквадратичной ошибки: 0.028942024118348755\n"
          ]
        }
      ],
      "source": [
        "plt.scatter(y_test, y_pred)\n",
        "plt.xlabel(\"Настоящие значения\")\n",
        "plt.ylabel(\"Предсказанные значения\")\n",
        "plt.show()\n",
        "\n",
        "print('Корень из среднеквадратичной ошибки:',\n",
        "      np.sqrt(metrics.mean_squared_error(y_test, y_pred)))"
      ]
    },
    {
      "cell_type": "markdown",
      "id": "e3d005c2",
      "metadata": {
        "id": "e3d005c2"
      },
      "source": [
        "y = ax + b"
      ]
    },
    {
      "cell_type": "code",
      "execution_count": 38,
      "id": "daf5d697",
      "metadata": {
        "colab": {
          "base_uri": "https://localhost:8080/"
        },
        "id": "daf5d697",
        "outputId": "17af5672-426c-430d-ac2e-0d9cf350f21a"
      },
      "outputs": [
        {
          "data": {
            "text/plain": [
              "array([0.9270283])"
            ]
          },
          "execution_count": 38,
          "metadata": {},
          "output_type": "execute_result"
        }
      ],
      "source": [
        "regressor.coef_"
      ]
    },
    {
      "cell_type": "code",
      "execution_count": 39,
      "id": "07edcdb7",
      "metadata": {
        "colab": {
          "base_uri": "https://localhost:8080/"
        },
        "id": "07edcdb7",
        "outputId": "0bd05bd7-6efc-46c5-aab4-aceb9a1d2729"
      },
      "outputs": [
        {
          "data": {
            "text/plain": [
              "np.float64(0.00015453169964041447)"
            ]
          },
          "execution_count": 39,
          "metadata": {},
          "output_type": "execute_result"
        }
      ],
      "source": [
        "regressor.intercept_"
      ]
    },
    {
      "cell_type": "code",
      "execution_count": 40,
      "id": "NM2JFVHTPB8p",
      "metadata": {
        "colab": {
          "base_uri": "https://localhost:8080/"
        },
        "id": "NM2JFVHTPB8p",
        "outputId": "d73f6fb0-c23d-45ea-eb55-d1028b6c4346"
      },
      "outputs": [
        {
          "data": {
            "text/plain": [
              "array([0.10612245])"
            ]
          },
          "execution_count": 40,
          "metadata": {},
          "output_type": "execute_result"
        }
      ],
      "source": [
        "X_test[0]"
      ]
    },
    {
      "cell_type": "code",
      "execution_count": 44,
      "id": "uCsbFMzZQoAU",
      "metadata": {
        "id": "uCsbFMzZQoAU"
      },
      "outputs": [],
      "source": [
        "area = X_test[0]\n",
        "cost = 0.9163200 * area"
      ]
    },
    {
      "cell_type": "code",
      "execution_count": 45,
      "id": "_f8h5vFORPOr",
      "metadata": {
        "colab": {
          "base_uri": "https://localhost:8080/"
        },
        "id": "_f8h5vFORPOr",
        "outputId": "fced61b4-bcf8-41f7-8d74-14985b0968b4"
      },
      "outputs": [
        {
          "data": {
            "text/plain": [
              "array([0.09724212])"
            ]
          },
          "execution_count": 45,
          "metadata": {},
          "output_type": "execute_result"
        }
      ],
      "source": [
        "cost"
      ]
    },
    {
      "cell_type": "code",
      "execution_count": 47,
      "id": "Y-Y9G1uKVStp",
      "metadata": {
        "id": "Y-Y9G1uKVStp"
      },
      "outputs": [],
      "source": [
        "user_area = 53"
      ]
    },
    {
      "cell_type": "code",
      "execution_count": 51,
      "id": "CW7wHMmoW0F2",
      "metadata": {
        "colab": {
          "base_uri": "https://localhost:8080/"
        },
        "id": "CW7wHMmoW0F2",
        "outputId": "a187b491-741e-4343-c65c-e89b0aa7d829"
      },
      "outputs": [
        {
          "data": {
            "text/plain": [
              "(324, 1)"
            ]
          },
          "execution_count": 51,
          "metadata": {},
          "output_type": "execute_result"
        }
      ],
      "source": [
        "X_test.shape\n"
      ]
    },
    {
      "cell_type": "code",
      "execution_count": 52,
      "id": "6jStP9gKV426",
      "metadata": {
        "colab": {
          "base_uri": "https://localhost:8080/"
        },
        "id": "6jStP9gKV426",
        "outputId": "41ea017b-0734-476f-f650-303071e67eee"
      },
      "outputs": [
        {
          "name": "stderr",
          "output_type": "stream",
          "text": [
            "c:\\Users\\User\\PycharmProjects\\New_flask\\.venv\\Lib\\site-packages\\sklearn\\base.py:493: UserWarning: X does not have valid feature names, but MinMaxScaler was fitted with feature names\n",
            "  warnings.warn(\n"
          ]
        }
      ],
      "source": [
        "scaled_area = min_max_scaler_x.transform([[user_area]])"
      ]
    },
    {
      "cell_type": "code",
      "execution_count": 53,
      "id": "R3PaJC8Gh7x-",
      "metadata": {
        "colab": {
          "base_uri": "https://localhost:8080/"
        },
        "id": "R3PaJC8Gh7x-",
        "outputId": "daca9018-d1d1-4298-bde3-a2ace343a7e4"
      },
      "outputs": [
        {
          "data": {
            "text/plain": [
              "array([0.16285746])"
            ]
          },
          "execution_count": 53,
          "metadata": {},
          "output_type": "execute_result"
        }
      ],
      "source": [
        "predicted_cost = regressor.predict(scaled_area)\n",
        "predicted_cost"
      ]
    },
    {
      "cell_type": "code",
      "execution_count": 56,
      "id": "rS1USBq6jbHX",
      "metadata": {
        "colab": {
          "base_uri": "https://localhost:8080/"
        },
        "id": "rS1USBq6jbHX",
        "outputId": "3312ad41-2ffb-4719-f06e-89a1997134d2"
      },
      "outputs": [
        {
          "data": {
            "text/plain": [
              "np.float64(2836167.38)"
            ]
          },
          "execution_count": 56,
          "metadata": {},
          "output_type": "execute_result"
        }
      ],
      "source": [
        "np.round(min_max_scaler_y.inverse_transform([predicted_cost])[0][0], 2)"
      ]
    },
    {
      "cell_type": "code",
      "execution_count": 57,
      "id": "23a28aa5",
      "metadata": {},
      "outputs": [],
      "source": [
        "with open(\"../models/scaler_x.pkl\", \"wb\") as f:\n",
        "    pickle.dump(min_max_scaler_x, f)"
      ]
    },
    {
      "cell_type": "code",
      "execution_count": 58,
      "id": "6c63095d",
      "metadata": {},
      "outputs": [],
      "source": [
        "with open(\"../models/scaler_y.pkl\", \"wb\") as f:\n",
        "    pickle.dump(min_max_scaler_y, f)"
      ]
    },
    {
      "cell_type": "code",
      "execution_count": 59,
      "id": "61bf9c04",
      "metadata": {},
      "outputs": [],
      "source": [
        "with open('../models/Ir_model.pkl', \"wb\") as f:\n",
        "    pickle.dump(regressor, f)"
      ]
    },
    {
      "cell_type": "markdown",
      "id": "8f1e2c98",
      "metadata": {
        "id": "8f1e2c98"
      },
      "source": [
        "y = 0.92027096 * x + 0.0006612178756792708"
      ]
    },
    {
      "cell_type": "markdown",
      "id": "ded053cb",
      "metadata": {
        "id": "ded053cb"
      },
      "source": [
        "### Дерево решений и случайный лес"
      ]
    },
    {
      "cell_type": "code",
      "execution_count": null,
      "id": "e1c613bf",
      "metadata": {
        "id": "e1c613bf"
      },
      "outputs": [],
      "source": [
        "from sklearn.ensemble import RandomForestRegressor\n",
        "from sklearn.model_selection import GridSearchCV"
      ]
    },
    {
      "cell_type": "code",
      "execution_count": null,
      "id": "47075130",
      "metadata": {
        "id": "47075130"
      },
      "outputs": [],
      "source": [
        "?RandomForestRegressor"
      ]
    },
    {
      "cell_type": "code",
      "execution_count": null,
      "id": "d61c9a19",
      "metadata": {
        "id": "d61c9a19"
      },
      "outputs": [],
      "source": [
        "n_estimators = [int(x) for x in np.linspace(start=50, stop=400, num=4)]\n",
        "\n",
        "max_depth = [int(x) for x in np.linspace(2, 50, num=3)]\n",
        "max_depth.append(None)\n",
        "\n",
        "min_samples_leaf = [1, 4]\n",
        "\n",
        "param_grid = {\n",
        "    'n_estimators': n_estimators,\n",
        "    'max_depth': max_depth,\n",
        "    'min_samples_leaf': min_samples_leaf\n",
        "              }\n",
        "param_grid"
      ]
    },
    {
      "cell_type": "code",
      "execution_count": null,
      "id": "b9650ef3",
      "metadata": {
        "id": "b9650ef3"
      },
      "outputs": [],
      "source": [
        "rf = RandomForestRegressor()"
      ]
    },
    {
      "cell_type": "code",
      "execution_count": null,
      "id": "766f8e39",
      "metadata": {
        "id": "766f8e39"
      },
      "outputs": [],
      "source": [
        "rf_random = GridSearchCV(estimator=rf,\n",
        "                         param_grid=param_grid,\n",
        "                         cv=5,\n",
        "                         verbose=2)\n",
        "\n",
        "rf_random.fit(X_train, y_train)"
      ]
    },
    {
      "cell_type": "code",
      "execution_count": null,
      "id": "bfbfc424",
      "metadata": {
        "id": "bfbfc424"
      },
      "outputs": [],
      "source": [
        "rf = rf_random.best_estimator_"
      ]
    },
    {
      "cell_type": "code",
      "execution_count": null,
      "id": "05e0db2b",
      "metadata": {
        "id": "05e0db2b"
      },
      "outputs": [],
      "source": [
        "rf"
      ]
    },
    {
      "cell_type": "code",
      "execution_count": null,
      "id": "03b0c191",
      "metadata": {
        "id": "03b0c191"
      },
      "outputs": [],
      "source": [
        "rf.fit(X_train, y_train)"
      ]
    },
    {
      "cell_type": "code",
      "execution_count": null,
      "id": "060e3cd2",
      "metadata": {
        "id": "060e3cd2"
      },
      "outputs": [],
      "source": [
        "y_pred = rf.predict(X_test)\n",
        "\n",
        "e = np.sqrt(metrics.mean_squared_error(y_test, y_pred))\n",
        "e"
      ]
    },
    {
      "cell_type": "code",
      "execution_count": null,
      "id": "a3443cc7",
      "metadata": {
        "id": "a3443cc7"
      },
      "outputs": [],
      "source": [
        "plt.scatter(y_test, y_pred)\n",
        "plt.xlabel(\"Настоящие значения\")\n",
        "plt.ylabel(\"Предсказанные значения\")\n",
        "plt.show()\n",
        "\n",
        "print('Корень из среднеквадратичной ошибки:',\n",
        "      np.sqrt(metrics.mean_squared_error(y_test, y_pred)))"
      ]
    },
    {
      "cell_type": "code",
      "execution_count": null,
      "id": "a2483a59",
      "metadata": {
        "id": "a2483a59"
      },
      "outputs": [],
      "source": [
        "with open(\"rf.pkl\", \"wb\") as f:\n",
        "    pickle.dump(rf, f)"
      ]
    },
    {
      "cell_type": "code",
      "execution_count": null,
      "id": "d17d8387",
      "metadata": {
        "id": "d17d8387"
      },
      "outputs": [],
      "source": [
        "with open(\"scaler_x.pkl\", \"wb\") as f:\n",
        "    pickle.dump(min_max_scaler_x, f)"
      ]
    },
    {
      "cell_type": "code",
      "execution_count": null,
      "id": "47741b87",
      "metadata": {
        "id": "47741b87"
      },
      "outputs": [],
      "source": [
        "with open(\"scaler_y.pkl\", \"wb\") as f:\n",
        "    pickle.dump(min_max_scaler_y, f)"
      ]
    },
    {
      "cell_type": "markdown",
      "id": "061ac521",
      "metadata": {
        "id": "061ac521"
      },
      "source": [
        "---"
      ]
    },
    {
      "cell_type": "markdown",
      "id": "13ad60e1",
      "metadata": {
        "id": "13ad60e1"
      },
      "source": [
        "Логика для Flask-приложения"
      ]
    },
    {
      "cell_type": "code",
      "execution_count": null,
      "id": "a4f117ec",
      "metadata": {
        "id": "a4f117ec"
      },
      "outputs": [],
      "source": [
        "with open(\"rf.pkl\", \"rb\") as f:\n",
        "    model = pickle.load(f)"
      ]
    },
    {
      "cell_type": "code",
      "execution_count": null,
      "id": "62210582",
      "metadata": {
        "id": "62210582"
      },
      "outputs": [],
      "source": [
        "with open(\"scaler_x.pkl\", \"rb\") as f:\n",
        "    scaler_x = pickle.load(f)"
      ]
    },
    {
      "cell_type": "code",
      "execution_count": null,
      "id": "9fe1184e",
      "metadata": {
        "id": "9fe1184e"
      },
      "outputs": [],
      "source": [
        "with open(\"scaler_y.pkl\", \"rb\") as f:\n",
        "    scaler_y = pickle.load(f)"
      ]
    },
    {
      "cell_type": "code",
      "execution_count": null,
      "id": "68067c9c",
      "metadata": {
        "id": "68067c9c"
      },
      "outputs": [],
      "source": []
    },
    {
      "cell_type": "code",
      "execution_count": null,
      "id": "f6f70de0",
      "metadata": {
        "id": "f6f70de0"
      },
      "outputs": [],
      "source": [
        "area = 55.5"
      ]
    },
    {
      "cell_type": "code",
      "execution_count": null,
      "id": "12227514",
      "metadata": {
        "id": "12227514"
      },
      "outputs": [],
      "source": [
        "X_test.shape"
      ]
    },
    {
      "cell_type": "code",
      "execution_count": null,
      "id": "d8738bf6",
      "metadata": {
        "id": "d8738bf6"
      },
      "outputs": [],
      "source": [
        "X_test"
      ]
    },
    {
      "cell_type": "code",
      "execution_count": null,
      "id": "0ab1a7d2",
      "metadata": {
        "id": "0ab1a7d2"
      },
      "outputs": [],
      "source": []
    },
    {
      "cell_type": "code",
      "execution_count": null,
      "id": "64be91d8",
      "metadata": {
        "id": "64be91d8"
      },
      "outputs": [],
      "source": [
        "params = [[area]]"
      ]
    },
    {
      "cell_type": "code",
      "execution_count": null,
      "id": "d9f2f0ce",
      "metadata": {
        "id": "d9f2f0ce"
      },
      "outputs": [],
      "source": [
        "params = scaler_x.transform(params)"
      ]
    },
    {
      "cell_type": "code",
      "execution_count": null,
      "id": "5cb77362",
      "metadata": {
        "id": "5cb77362"
      },
      "outputs": [],
      "source": [
        "y_pred = model.predict(params)"
      ]
    },
    {
      "cell_type": "code",
      "execution_count": null,
      "id": "5826f580",
      "metadata": {
        "id": "5826f580"
      },
      "outputs": [],
      "source": [
        "y_pred"
      ]
    },
    {
      "cell_type": "code",
      "execution_count": null,
      "id": "9936f2ef",
      "metadata": {
        "id": "9936f2ef"
      },
      "outputs": [],
      "source": [
        "scaler_y.inverse_transform([y_pred])"
      ]
    },
    {
      "cell_type": "code",
      "execution_count": null,
      "id": "f8d7d2f7",
      "metadata": {
        "id": "f8d7d2f7"
      },
      "outputs": [],
      "source": []
    }
  ],
  "metadata": {
    "colab": {
      "provenance": []
    },
    "kernelspec": {
      "display_name": ".venv",
      "language": "python",
      "name": "python3"
    },
    "language_info": {
      "codemirror_mode": {
        "name": "ipython",
        "version": 3
      },
      "file_extension": ".py",
      "mimetype": "text/x-python",
      "name": "python",
      "nbconvert_exporter": "python",
      "pygments_lexer": "ipython3",
      "version": "3.12.4"
    }
  },
  "nbformat": 4,
  "nbformat_minor": 5
}
